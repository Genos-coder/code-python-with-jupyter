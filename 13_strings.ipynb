{
 "cells": [
  {
   "cell_type": "markdown",
   "id": "2b4f12af",
   "metadata": {},
   "source": [
    "# 🎈Strings in python"
   ]
  },
  {
   "cell_type": "markdown",
   "id": "cba58c92",
   "metadata": {},
   "source": [
    "### 🍭Basic stuff"
   ]
  },
  {
   "cell_type": "code",
   "execution_count": null,
   "id": "25854e85",
   "metadata": {},
   "outputs": [],
   "source": [
    "str1 = \"This is single line string\"\n",
    "str2 = \"\"\"\n",
    "This is a multiline string\n",
    "you can write more in it\n",
    "\"\"\"\n",
    "\n",
    "#You can use membership operator in order to check any string present inside the main string\n",
    "print(\"multiline\" in str2)"
   ]
  },
  {
   "cell_type": "markdown",
   "id": "7712e273",
   "metadata": {},
   "source": [
    "### 🍭 Operations on string"
   ]
  },
  {
   "cell_type": "code",
   "execution_count": null,
   "id": "c73f57dc",
   "metadata": {},
   "outputs": [],
   "source": [
    "#Question: finding length of string \n",
    "\n",
    "str3 = \"This is a example string\"\n",
    "print(len(str3))"
   ]
  },
  {
   "cell_type": "code",
   "execution_count": null,
   "id": "b2532815",
   "metadata": {},
   "outputs": [],
   "source": [
    "#Strings are like a array which stores the character starting from index 0\n",
    "#accessing the sub strings using array like box notation\n",
    "str4 = \"This string is only for testing purpose\"\n",
    "\n",
    "print(str4[0:len(str4)]) #by default 0 is in first and second is string's entire length if you don't put anything\n",
    "#below and above are same\n",
    "print(str4[0:])\n",
    "#below and above are same\n",
    "print(str4[:len(str4)])\n",
    "print(str4[::-1]) #putting negative index(slice step) at third place will start to get string in account from end and first two position are considered as default here which is nothing but 0, len(str)\n"
   ]
  },
  {
   "cell_type": "code",
   "execution_count": null,
   "id": "48d745d4",
   "metadata": {},
   "outputs": [],
   "source": [
    "#Printing string using for loop\n",
    "\n",
    "str5 = \"This string is for printing purpose\"\n",
    "for i in str5:\n",
    "    print(i,end=\"\") # here we use end=\"\" so that the string will remain at one line "
   ]
  },
  {
   "cell_type": "markdown",
   "id": "35150d4c",
   "metadata": {},
   "source": [
    "### 🍭 Formatting in strings"
   ]
  },
  {
   "cell_type": "code",
   "execution_count": null,
   "id": "8984a401",
   "metadata": {},
   "outputs": [],
   "source": [
    "#step1:create variables to put inside the string\n",
    "task = \"put plates on table\"\n",
    "name = \"Jimmy\"\n",
    "#step2:Make a statement\n",
    "statement = \"{} {}, before it's too late\"\n",
    "print(statement.format(name,task))\n",
    "\n",
    "#sometime we don't know the position of variables\n",
    "statement2 = \"{1} {0}, before it's too late\"\n",
    "print(statement2.format(name,task))\n",
    "\n",
    "#Using f strings\n",
    "\n",
    "print(f\"{name} {task}, before it's too late\")\n",
    "\n"
   ]
  },
  {
   "cell_type": "markdown",
   "id": "b7080c5a",
   "metadata": {},
   "source": [
    "### 🍭 String formating methods"
   ]
  },
  {
   "cell_type": "code",
   "execution_count": null,
   "id": "6bbf7d2a",
   "metadata": {},
   "outputs": [],
   "source": [
    "str6 = \"   this string is for formAtting purpose    \"\n",
    "print(str6.title())\n",
    "print(str6.capitalize())\n",
    "print(str6.upper())\n",
    "print(str6.lower())\n",
    "print(str6.swapcase())\n",
    "str7 = \"   this string is for formatting purpose    ssssss\"\n",
    "print(str6.rstrip(\"s\"))\n",
    "print(str6.strip())\n",
    "print(str6.lstrip())"
   ]
  },
  {
   "cell_type": "markdown",
   "id": "990c0806",
   "metadata": {},
   "source": [
    "### 🍭 String adjusting methods"
   ]
  },
  {
   "cell_type": "code",
   "execution_count": null,
   "id": "9fd07714",
   "metadata": {},
   "outputs": [],
   "source": [
    "str8 = \"hello\"\n",
    "print(str8.rjust(10,\"i\"))\n",
    "print(str8.ljust(10,\"i\"))\n",
    "print(str8.center(11,\"i\"))"
   ]
  },
  {
   "cell_type": "markdown",
   "id": "d8d1e053",
   "metadata": {},
   "source": [
    "### 🍭 String checking methods"
   ]
  },
  {
   "cell_type": "code",
   "execution_count": null,
   "id": "08bae7ad",
   "metadata": {},
   "outputs": [],
   "source": [
    "str9 = \"This is sample string\"\n",
    "\n",
    "print(str9.endswith(\"string\"))\n",
    "# print(str9.index(\"lol\")) #this will give error if cannot find the string index\n",
    "print(str9.find(\"is\")) #This will return -1 if cannot find the string index\n",
    "print(str9.startswith(\"This\"))\n",
    "print(str9.count(\"is\"))\n",
    "str10 = \"1\"\n",
    "print(str10.isalnum())\n",
    "str11 = \"this\"\n",
    "print(str11.isalpha())\n",
    "print(str11.islower())\n",
    "print(str11.isupper())\n",
    "print(str11)"
   ]
  },
  {
   "cell_type": "markdown",
   "id": "589267c1",
   "metadata": {},
   "source": [
    "# "
   ]
  },
  {
   "cell_type": "markdown",
   "id": "263566fe",
   "metadata": {},
   "source": [
    "### 🍭Extra usefull methods\n"
   ]
  },
  {
   "cell_type": "code",
   "execution_count": null,
   "id": "1b59f6d5",
   "metadata": {},
   "outputs": [],
   "source": [
    "str12 = \"this is testing of string\"\n",
    "print(str12.split(\" \")) #will make the list of string with \" \" argument as a separator\n",
    "print(\" \".join([\"this\", \"is\", \"testing\",\"string\"])) # this will join the string with provided string in between\n"
   ]
  },
  {
   "cell_type": "code",
   "execution_count": null,
   "id": "f0ecfe00",
   "metadata": {},
   "outputs": [],
   "source": []
  }
 ],
 "metadata": {
  "kernelspec": {
   "display_name": "Python 3 (ipykernel)",
   "language": "python",
   "name": "python3"
  },
  "language_info": {
   "codemirror_mode": {
    "name": "ipython",
    "version": 3
   },
   "file_extension": ".py",
   "mimetype": "text/x-python",
   "name": "python",
   "nbconvert_exporter": "python",
   "pygments_lexer": "ipython3",
   "version": "3.12.3"
  }
 },
 "nbformat": 4,
 "nbformat_minor": 5
}
