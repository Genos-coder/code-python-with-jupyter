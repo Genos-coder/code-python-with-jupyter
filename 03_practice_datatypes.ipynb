{
 "cells": [
  {
   "cell_type": "markdown",
   "id": "fc5ea431",
   "metadata": {},
   "source": [
    "### Question1- What are the different data types in Python? Give examples of each\n",
    "### Question2- How do you convert a string '123' into an integer?\n",
    "### Question3-Write a Python program to check if a given variable is of type float.\n",
    "### Question4-Convert the list [1, 2, 3, 4] into a tuple and a set.\n",
    "### Question5-Write a Python script to calculate the length of a string provided by the user.\n",
    "### Question6-Create a dictionary to store details of a student (name, age, grade). Retrieve the age from the dictionary.\n",
    "### Question7-Write a program to check if a variable is mutable or immutable.\n",
    "### Question8-Convert the integer 10 to binary, octal, and hexadecimal formats.\n",
    "### Question9-Write a Python program to swap two numbers using tuple unpacking."
   ]
  },
  {
   "cell_type": "code",
   "execution_count": null,
   "id": "e19d783c",
   "metadata": {},
   "outputs": [],
   "source": []
  }
 ],
 "metadata": {
  "kernelspec": {
   "display_name": "Python 3 (ipykernel)",
   "language": "python",
   "name": "python3"
  },
  "language_info": {
   "codemirror_mode": {
    "name": "ipython",
    "version": 3
   },
   "file_extension": ".py",
   "mimetype": "text/x-python",
   "name": "python",
   "nbconvert_exporter": "python",
   "pygments_lexer": "ipython3",
   "version": "3.12.3"
  }
 },
 "nbformat": 4,
 "nbformat_minor": 5
}
