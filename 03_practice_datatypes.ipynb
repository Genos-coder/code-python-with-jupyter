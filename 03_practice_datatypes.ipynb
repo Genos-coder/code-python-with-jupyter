{
 "cells": [
  {
   "cell_type": "markdown",
   "id": "fc5ea431",
   "metadata": {},
   "source": [
    "### Question1- What are the different data types in Python? Give examples of each\n",
    "### Question2- How do you convert a string '123' into an integer?\n",
    "### Question3-Write a Python program to check if a given variable is of type float.\n",
    "### Question4-Convert the list [1, 2, 3, 4] into a tuple and a set.\n",
    "### Question5-Write a Python script to calculate the length of a string provided by the user.\n",
    "### Question6-Create a dictionary to store details of a student (name, age, grade). Retrieve the age from the dictionary.\n",
    "### Question7-Write a program to check if a variable is mutable or immutable.\n",
    "### Question8-Convert the integer 10 to binary, octal, and hexadecimal formats.\n",
    "### Question9-Write a Python program to swap two numbers using tuple unpacking."
   ]
  },
  {
   "cell_type": "markdown",
   "id": "e8c7677a",
   "metadata": {},
   "source": [
    "### Question1- What are the different data types in Python? Give examples of each"
   ]
  },
  {
   "cell_type": "code",
   "execution_count": null,
   "id": "4fb814a9",
   "metadata": {},
   "outputs": [],
   "source": [
    "#Primitive Datatypes\n",
    "a1 = 12 #integer\n",
    "a2 = 1.2 #float\n",
    "a3 = \"jake\" #string\n",
    "a4 = True #Boolean\n",
    "a5 = 1+2j  #complex\n",
    "a6 = {1,2,3,4} #set\n",
    "a7 = [\"reddy\", True, 12] #list\n",
    "a8 = {\"name\":\"virat\",\"sport\":\"cricket\"} #dictionary\n",
    "a9 = None\n",
    "a10 = (1, 2,3)#tuple\n"
   ]
  },
  {
   "cell_type": "markdown",
   "id": "7e83393f",
   "metadata": {},
   "source": [
    "### Question2- How do you convert a string '123' into an integer?"
   ]
  },
  {
   "cell_type": "code",
   "execution_count": null,
   "id": "ecf27b83",
   "metadata": {},
   "outputs": [],
   "source": [
    "a = \"123\"\n",
    "b = int(a)\n",
    "print(type(b))"
   ]
  },
  {
   "cell_type": "markdown",
   "id": "201a445b",
   "metadata": {},
   "source": [
    "### Question3-Write a Python program to check if a given variable is of type float."
   ]
  },
  {
   "cell_type": "code",
   "execution_count": 4,
   "id": "16ec77be",
   "metadata": {},
   "outputs": [
    {
     "data": {
      "text/plain": [
       "True"
      ]
     },
     "execution_count": 4,
     "metadata": {},
     "output_type": "execute_result"
    }
   ],
   "source": [
    "def isFloat(input):\n",
    "    return type(input) == float\n",
    "isFloat(1.2)"
   ]
  },
  {
   "cell_type": "markdown",
   "id": "2a214257",
   "metadata": {},
   "source": [
    "### Question4-Convert the list [1, 2, 3, 4] into a tuple and a set."
   ]
  },
  {
   "cell_type": "code",
   "execution_count": 9,
   "id": "6ef6cee8",
   "metadata": {},
   "outputs": [
    {
     "name": "stdout",
     "output_type": "stream",
     "text": [
      "<class 'tuple'>\n",
      "<class 'set'>\n"
     ]
    }
   ],
   "source": [
    "list1 = [1,2,3,4]\n",
    "tuple1 = tuple(list1)\n",
    "print(type(tuple1))\n",
    "set1 = set(list1)\n",
    "print(type(set1))\n"
   ]
  },
  {
   "cell_type": "markdown",
   "id": "0f01dfda",
   "metadata": {},
   "source": [
    "### Question5-Write a Python script to calculate the length of a string provided by the user."
   ]
  },
  {
   "cell_type": "code",
   "execution_count": 10,
   "id": "d983f8da",
   "metadata": {},
   "outputs": [
    {
     "name": "stdout",
     "output_type": "stream",
     "text": [
      "3\n"
     ]
    }
   ],
   "source": [
    "def calculateLen(input):\n",
    "    return len(input)\n",
    "print(calculateLen(\"123\"))"
   ]
  },
  {
   "cell_type": "markdown",
   "id": "64030a36",
   "metadata": {},
   "source": [
    "### Question6-Create a dictionary to store details of a student (name, age, grade). Retrieve the age from the dictionary."
   ]
  },
  {
   "cell_type": "code",
   "execution_count": 25,
   "id": "463c82a7",
   "metadata": {},
   "outputs": [
    {
     "name": "stdout",
     "output_type": "stream",
     "text": [
      "Redd\n"
     ]
    }
   ],
   "source": [
    "stud1 = {\n",
    "    \"name\":\"Redd\",\n",
    "    \"age\":12,\n",
    "    \"grade\":\"A\"\n",
    "}\n",
    "print(stud1[\"name\"])"
   ]
  },
  {
   "cell_type": "markdown",
   "id": "1468db44",
   "metadata": {},
   "source": [
    "### Question7-Write a program to check if a variable is mutable or immutable"
   ]
  },
  {
   "cell_type": "code",
   "execution_count": 28,
   "id": "a67db16a",
   "metadata": {},
   "outputs": [
    {
     "data": {
      "text/plain": [
       "True"
      ]
     },
     "execution_count": 28,
     "metadata": {},
     "output_type": "execute_result"
    }
   ],
   "source": [
    "def isImmutable(input):\n",
    "    return type(input)==tuple or type(input)==str\n",
    "\n",
    "isImmutable((1,2,3))"
   ]
  },
  {
   "cell_type": "markdown",
   "id": "a1801ccb",
   "metadata": {},
   "source": [
    "### Question8-Convert the integer 10 to binary, octal, and hexadecimal formats."
   ]
  },
  {
   "cell_type": "code",
   "execution_count": 30,
   "id": "0b35d456",
   "metadata": {},
   "outputs": [
    {
     "name": "stdout",
     "output_type": "stream",
     "text": [
      "0b1010\n",
      "0o12\n",
      "0xa\n"
     ]
    }
   ],
   "source": [
    "test1 = 10\n",
    "print(bin(10))\n",
    "print(oct(10))\n",
    "print(hex(10))"
   ]
  },
  {
   "cell_type": "markdown",
   "id": "82f036fe",
   "metadata": {},
   "source": [
    "### Question9-Write a Python program to swap two numbers using tuple unpacking."
   ]
  },
  {
   "cell_type": "code",
   "execution_count": 33,
   "id": "9672e517",
   "metadata": {},
   "outputs": [
    {
     "name": "stdout",
     "output_type": "stream",
     "text": [
      "20 10\n"
     ]
    }
   ],
   "source": [
    "a = 10\n",
    "b = 20\n",
    "a,b = b,a\n",
    "print(a, b)"
   ]
  },
  {
   "cell_type": "code",
   "execution_count": null,
   "id": "a2899c4d",
   "metadata": {},
   "outputs": [],
   "source": []
  }
 ],
 "metadata": {
  "kernelspec": {
   "display_name": "Python 3 (ipykernel)",
   "language": "python",
   "name": "python3"
  },
  "language_info": {
   "codemirror_mode": {
    "name": "ipython",
    "version": 3
   },
   "file_extension": ".py",
   "mimetype": "text/x-python",
   "name": "python",
   "nbconvert_exporter": "python",
   "pygments_lexer": "ipython3",
   "version": "3.12.3"
  }
 },
 "nbformat": 4,
 "nbformat_minor": 5
}
