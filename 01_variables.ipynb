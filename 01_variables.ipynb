{
 "cells": [
  {
   "cell_type": "markdown",
   "id": "8547544b-38c1-4245-b626-0ac9e74ce823",
   "metadata": {},
   "source": [
    "## 🍭Variables in python"
   ]
  },
  {
   "cell_type": "markdown",
   "id": "333df885-6495-4a14-ac5f-abe25edad95e",
   "metadata": {},
   "source": [
    "- Primitive Varibles"
   ]
  },
  {
   "cell_type": "code",
   "execution_count": 5,
   "id": "89431c00",
   "metadata": {},
   "outputs": [],
   "source": [
    "var1 = \"this is a string\" #string\n",
    "var2 = 12 #number\n",
    "var3 = True #boolean\n",
    "var4 = None #This is act as a placeholder if you want to put this anywhere before any variable comes in"
   ]
  },
  {
   "cell_type": "markdown",
   "id": "f444cc72-f292-4d0c-ad55-be0f8faedd63",
   "metadata": {},
   "source": [
    "- sequenced variables"
   ]
  },
  {
   "cell_type": "code",
   "execution_count": null,
   "id": "57409a11-27a4-41b3-a570-80f0e5ed62d9",
   "metadata": {},
   "outputs": [],
   "source": [
    "var5 = [\"place\", 12, True] #List\n",
    "var6 = {\"name\":\"t-rex\",\"age\":10000} #dictionary\n",
    "var7 = {1,2,3,4,5} #set\n",
    "var8 = range(0,10,2)\n"
   ]
  },
  {
   "cell_type": "markdown",
   "id": "72dee6be-d06b-4a0b-80cd-491a349364b5",
   "metadata": {},
   "source": [
    "- Naming convention"
   ]
  },
  {
   "cell_type": "code",
   "execution_count": 8,
   "id": "44570e40",
   "metadata": {},
   "outputs": [],
   "source": [
    "# variables(snake_case) \n",
    "first_name = \"ganesh\"\n",
    "\n",
    "# Class name(PascalCase)\n",
    "class DoStuff:\n",
    "    pass\n",
    "\n",
    "# constants\n",
    "\n",
    "USER_LIST = [\"tim\", \"jake\",\"mishashi\"]\n",
    "\n",
    "# magic methods or special methods in python\n",
    "\n",
    "__init__"
   ]
  }
 ],
 "metadata": {
  "kernelspec": {
   "display_name": "Python 3 (ipykernel)",
   "language": "python",
   "name": "python3"
  },
  "language_info": {
   "codemirror_mode": {
    "name": "ipython",
    "version": 3
   },
   "file_extension": ".py",
   "mimetype": "text/x-python",
   "name": "python",
   "nbconvert_exporter": "python",
   "pygments_lexer": "ipython3",
   "version": "3.12.3"
  }
 },
 "nbformat": 4,
 "nbformat_minor": 5
}
