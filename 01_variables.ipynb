{
 "cells": [
  {
   "cell_type": "markdown",
   "id": "8547544b-38c1-4245-b626-0ac9e74ce823",
   "metadata": {},
   "source": [
    "## 🍭Variables in python"
   ]
  },
  {
   "cell_type": "markdown",
   "id": "333df885-6495-4a14-ac5f-abe25edad95e",
   "metadata": {},
   "source": [
    "- Primitive Variables"
   ]
  },
  {
   "cell_type": "code",
   "execution_count": 5,
   "id": "89431c00",
   "metadata": {},
   "outputs": [],
   "source": [
    "var1 = \"this is a string\" #string\n",
    "var2 = 12 #number\n",
    "var3 = True #boolean\n",
    "var4 = None #This is act as a placeholder if you want to put this anywhere before any variable comes in"
   ]
  },
  {
   "cell_type": "markdown",
   "id": "f444cc72-f292-4d0c-ad55-be0f8faedd63",
   "metadata": {},
   "source": [
    "- sequenced variables"
   ]
  },
  {
   "cell_type": "code",
   "execution_count": null,
   "id": "57409a11-27a4-41b3-a570-80f0e5ed62d9",
   "metadata": {},
   "outputs": [],
   "source": [
    "var5 = [\"place\", 12, True] #List\n",
    "var6 = {\"name\":\"t-rex\",\"age\":10000} #dictionary\n",
    "var7 = {1,2,3,4,5} #set\n",
    "var8 = range(0,10,2)\n",
    "var9 = (1,2,3,4) #tuple\n"
   ]
  },
  {
   "cell_type": "markdown",
   "id": "72dee6be-d06b-4a0b-80cd-491a349364b5",
   "metadata": {},
   "source": [
    "- Naming convention"
   ]
  },
  {
   "cell_type": "code",
   "execution_count": null,
   "id": "f3724c23",
   "metadata": {},
   "outputs": [],
   "source": [
    "# variables(snake_case) \n",
    "first_name = \"ganesh\"\n",
    "\n",
    "# Class name(PascalCase)\n",
    "class DoStuff:\n",
    "    pass\n",
    "\n",
    "# constants\n",
    "\n",
    "USER_LIST = [\"tim\", \"jake\",\"mishashi\"]\n",
    "\n",
    "# magic methods or special methods in python syntax used to defined how object of class will behave with built in method\n",
    "\n",
    "class Person:\n",
    "    def __init__(self, name, age):\n",
    "        self.name = name\n",
    "        self.age = age\n",
    "\n",
    "    def __str__(self):\n",
    "        return f\"{self.name} is {self.age} years old\"\n",
    "\n",
    "    def __repr__(self):\n",
    "        return f\"Person('{self.name}', {self.age})\"\n",
    "\n",
    "p = Person(\"Alice\", 25)\n",
    "print(str(p))class Person:\n",
    "    def __init__(self, name, age):\n",
    "        self.name = name\n",
    "        self.age = age\n",
    "\n",
    "    def __str__(self):\n",
    "        return f\"{self.name} is {self.age} years old\"\n",
    "\n",
    "    def __repr__(self):\n",
    "        return f\"Person('{self.name}', {self.age})\"\n",
    "\n",
    "p = Person(\"Alice\", 25)\n",
    "print(repr(p))\n",
    "print(p)"
   ]
  },
  {
   "cell_type": "markdown",
   "id": "c42758f3",
   "metadata": {},
   "source": [
    "- Scope of variable"
   ]
  },
  {
   "cell_type": "code",
   "execution_count": null,
   "id": "6a6af30a",
   "metadata": {},
   "outputs": [],
   "source": [
    "#Global scope\n",
    "hero = \"Iron Man\"\n",
    "def saveCity():\n",
    "    print(f\"{hero} will save the city\")\n",
    "saveCity()\n",
    "\n",
    "#Block Scope\n",
    "def saveCity2():\n",
    "    hero = \"Thor\"\n",
    "    print(f\"{hero} will save the city\")\n",
    "\n",
    "saveCity2()\n",
    "# we can use global keyword in order to declare the variable inside a block global"
   ]
  },
  {
   "cell_type": "markdown",
   "id": "7f945313",
   "metadata": {},
   "source": [
    "### Question 1:What is the difference between local and global variables in Python?\n"
   ]
  },
  {
   "cell_type": "code",
   "execution_count": null,
   "id": "8076fb4f",
   "metadata": {},
   "outputs": [],
   "source": []
  },
  {
   "cell_type": "markdown",
   "id": "b5fc94be",
   "metadata": {},
   "source": [
    "### Question 2:What will happen if a local variable has the same name as a global variable?\n"
   ]
  },
  {
   "cell_type": "code",
   "execution_count": null,
   "id": "443fc45d",
   "metadata": {},
   "outputs": [],
   "source": []
  },
  {
   "cell_type": "markdown",
   "id": "e9778cd0",
   "metadata": {},
   "source": [
    "### Question 3:Explain the global keyword in Python. When would you use it?\n"
   ]
  },
  {
   "cell_type": "code",
   "execution_count": null,
   "id": "af2555d2",
   "metadata": {},
   "outputs": [],
   "source": []
  },
  {
   "cell_type": "markdown",
   "id": "624dbab3",
   "metadata": {},
   "source": [
    "### Question 4:Predict the output\n"
   ]
  },
  {
   "cell_type": "code",
   "execution_count": null,
   "id": "aacf8ec4",
   "metadata": {},
   "outputs": [],
   "source": [
    "x = 10\n",
    "\n",
    "def my_function():\n",
    "    x = 20\n",
    "    print(x)\n",
    "my_function()\n",
    "print(x)"
   ]
  },
  {
   "cell_type": "markdown",
   "id": "6173596b",
   "metadata": {},
   "source": [
    "### Question 5:What will be the output of the following code?\n"
   ]
  },
  {
   "cell_type": "code",
   "execution_count": null,
   "id": "5373c231",
   "metadata": {},
   "outputs": [],
   "source": [
    "count = 5\n",
    "\n",
    "def increment():\n",
    "    global count\n",
    "    count += 1\n",
    "increment()\n",
    "print(count)"
   ]
  },
  {
   "cell_type": "markdown",
   "id": "77e7e393",
   "metadata": {},
   "source": [
    "### Question 6:Identify the error in the following code:\n"
   ]
  },
  {
   "cell_type": "code",
   "execution_count": null,
   "id": "fc21f8b1",
   "metadata": {},
   "outputs": [],
   "source": [
    "def calculate():\n",
    "    total += 10 \n",
    "    print(total)\n",
    "\n",
    "total = 0\n",
    "calculate()"
   ]
  },
  {
   "cell_type": "markdown",
   "id": "f43e49f7",
   "metadata": {},
   "source": [
    "### Question 7:Modify this code to use a global variable correctly\n"
   ]
  },
  {
   "cell_type": "code",
   "execution_count": null,
   "id": "3e095ad8",
   "metadata": {},
   "outputs": [],
   "source": [
    "def update_balance(amount):\n",
    "    balance = balance + amount\n",
    "\n",
    "balance = 100\n",
    "update_balance(50)\n",
    "print(balance)"
   ]
  },
  {
   "cell_type": "code",
   "execution_count": null,
   "id": "64215f1b",
   "metadata": {},
   "outputs": [],
   "source": []
  }
 ],
 "metadata": {
  "kernelspec": {
   "display_name": "Python 3 (ipykernel)",
   "language": "python",
   "name": "python3"
  },
  "language_info": {
   "codemirror_mode": {
    "name": "ipython",
    "version": 3
   },
   "file_extension": ".py",
   "mimetype": "text/x-python",
   "name": "python",
   "nbconvert_exporter": "python",
   "pygments_lexer": "ipython3",
   "version": "3.12.3"
  }
 },
 "nbformat": 4,
 "nbformat_minor": 5
}
