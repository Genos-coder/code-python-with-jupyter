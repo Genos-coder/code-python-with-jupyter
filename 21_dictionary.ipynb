{
 "cells": [
  {
   "cell_type": "markdown",
   "id": "97f889df",
   "metadata": {},
   "source": [
    "### 🎈Dictionary "
   ]
  },
  {
   "cell_type": "markdown",
   "id": "27c938d5",
   "metadata": {},
   "source": [
    "### 🍭basics"
   ]
  },
  {
   "cell_type": "code",
   "execution_count": null,
   "id": "111bd6f6",
   "metadata": {},
   "outputs": [],
   "source": [
    "info = {'name':'Karan', 'age':19, 'eligible':True}\n",
    "print(info)"
   ]
  },
  {
   "cell_type": "markdown",
   "id": "3cb817b8",
   "metadata": {},
   "source": [
    "### 🍭Accessing  Dictionary items"
   ]
  },
  {
   "cell_type": "code",
   "execution_count": null,
   "id": "6a00165a",
   "metadata": {},
   "outputs": [],
   "source": [
    "info = {'name':'Karan', 'age':19, 'eligible':True}\n",
    "print(info[\"name\"])\n",
    "print(info.get(\"age\"))\n",
    "\n",
    "#accessing all values\n",
    "print(info.values())\n",
    "\n",
    "#accessing all keys\n",
    "print(info.keys())\n",
    "\n",
    "#asceesing al key-value pairs\n",
    "print(info.items())\n"
   ]
  },
  {
   "cell_type": "markdown",
   "id": "c5639a49",
   "metadata": {},
   "source": [
    "### 🍭Adding items in Dictionary "
   ]
  },
  {
   "cell_type": "code",
   "execution_count": null,
   "id": "61f95389",
   "metadata": {},
   "outputs": [],
   "source": [
    "info = {'name':'Karan', 'age':19, 'eligible':True}\n",
    "info[\"name\"] = \"mohit\"\n",
    "info[\"grade\"] = \"A\"\n",
    "print(info)\n",
    "info.update({\"age\":20})\n",
    "info.update({\"sport\":\"cricket\"})\n",
    "print(info)"
   ]
  },
  {
   "cell_type": "markdown",
   "id": "36518625",
   "metadata": {},
   "source": [
    "### 🍭 Removing items in Dictionary"
   ]
  },
  {
   "cell_type": "code",
   "execution_count": null,
   "id": "b0f9631e",
   "metadata": {},
   "outputs": [],
   "source": [
    "info = {'name':'Karan', 'age':19, 'eligible':True}\n",
    "# info.pop(\"name\") # here you can specify key \n",
    "# info.popitem() # here last key-value pair get's removed\n",
    "# del info[\"age\"]\n",
    "# info.clear()\n",
    "print(info)"
   ]
  },
  {
   "cell_type": "markdown",
   "id": "4a04438e",
   "metadata": {},
   "source": [
    "### 🍭 Copy in Dictionary"
   ]
  },
  {
   "cell_type": "code",
   "execution_count": null,
   "id": "c95cc4cf",
   "metadata": {},
   "outputs": [],
   "source": [
    "info = {'name':'Karan', 'age':19, 'eligible':True}\n",
    "info2 = info.copy()\n",
    "info3 = dict(info)\n",
    "# print(info2, info3)"
   ]
  },
  {
   "cell_type": "code",
   "execution_count": null,
   "id": "0b9be0e4",
   "metadata": {},
   "outputs": [],
   "source": []
  }
 ],
 "metadata": {
  "kernelspec": {
   "display_name": "Python 3 (ipykernel)",
   "language": "python",
   "name": "python3"
  },
  "language_info": {
   "codemirror_mode": {
    "name": "ipython",
    "version": 3
   },
   "file_extension": ".py",
   "mimetype": "text/x-python",
   "name": "python",
   "nbconvert_exporter": "python",
   "pygments_lexer": "ipython3",
   "version": "3.12.3"
  }
 },
 "nbformat": 4,
 "nbformat_minor": 5
}
