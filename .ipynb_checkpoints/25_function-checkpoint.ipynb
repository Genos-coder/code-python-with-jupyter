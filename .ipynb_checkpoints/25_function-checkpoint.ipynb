{
 "cells": [
  {
   "cell_type": "markdown",
   "id": "1f2ab461",
   "metadata": {},
   "source": [
    "### 🎈Funtions"
   ]
  },
  {
   "cell_type": "markdown",
   "id": "9759e39a",
   "metadata": {},
   "source": [
    "### 🍭basic\n"
   ]
  },
  {
   "cell_type": "code",
   "execution_count": null,
   "id": "9e08ce5f",
   "metadata": {},
   "outputs": [],
   "source": [
    "# define a function\n",
    "def its_working(input): \n",
    "    if(input):\n",
    "        print(\"It's working\")\n",
    "    else:\n",
    "        print(\"It's not working\")\n",
    "\n",
    "#call the function using-> ()\n",
    "its_working(True)"
   ]
  },
  {
   "cell_type": "markdown",
   "id": "7395c003",
   "metadata": {},
   "source": [
    "### 🍭Function arguments"
   ]
  },
  {
   "cell_type": "code",
   "execution_count": null,
   "id": "b6199ae0",
   "metadata": {},
   "outputs": [],
   "source": [
    "#DEFAULT ARGUMENTS\n",
    "\n",
    "#if we did not provide the default values then the arguments becomes required\n",
    "def print_full_name(fname=\"ana\", mname= \"de\",lname=\"armas\"): \n",
    "    print(f\"hello, {fname} {mname} {lname}\")\n",
    "\n",
    "# print_full_name(\"jake\",\"joseph\",\"paul\")\n",
    "# print_full_name(\"jake\")\n",
    "\n",
    "#KEYWORD ARGUMENTS\n",
    "\n",
    "# print_full_name(lname = \"paul\",fname=\"jake\")\n",
    "# print_full_name(\"paul\",\"jake\")\n",
    "\n",
    "#VARIABLE-LENGTH-ARGUMENTS\n",
    "\n",
    "#1:ARBITRARY ARGUMENTS\n",
    "\n",
    "def print_name(*name):\n",
    "#     print(name[0],name[1],name[2]) # error prone\n",
    "    statement = \"\"\n",
    "    for i in name:\n",
    "        statement+=i\n",
    "        statement+=\" \"\n",
    "    print(statement)\n",
    "    print(*name[:3]) #using unpacking operator\n",
    "    print(\" \".join(name))\n",
    "print_name(\"jake\",\"joseph\" )\n",
    "\n",
    "#2:KEYWORD ARBITRARY ARGUMENT\n",
    "\n",
    "def print_name2(**name):\n",
    "    print(\"Hello,\", name.get(\"fname\", \"Unknown\"), name.get(\"mname\", \"\"), name.get(\"lname\", \"Unknown\"))\n",
    "#     print(*name) #here we are unpacking the dictionary\n",
    "    for i in name.values():\n",
    "        print(i,end=\" \")\n",
    "print_name2(fname=\"jake\",mname=\"joseph\",lname=\"paul\")\n",
    "\n",
    "#if we want to put both *args and **kwargs first should be *args"
   ]
  },
  {
   "cell_type": "markdown",
   "id": "a15aecd0",
   "metadata": {},
   "source": [
    "### 🍭 Recursion in python"
   ]
  },
  {
   "cell_type": "code",
   "execution_count": 44,
   "id": "5140c5e6",
   "metadata": {},
   "outputs": [
    {
     "name": "stdout",
     "output_type": "stream",
     "text": [
      "6\n"
     ]
    }
   ],
   "source": [
    "#Make the function to find factorial of number\n",
    "def fact_num(num):\n",
    "    if(num ==1 or num ==0):\n",
    "        return num\n",
    "    else:\n",
    "        return num * fact_num(num-1)\n",
    "\n",
    "print(fact_num(3))"
   ]
  },
  {
   "cell_type": "code",
   "execution_count": null,
   "id": "0b1dc224",
   "metadata": {},
   "outputs": [],
   "source": []
  }
 ],
 "metadata": {
  "kernelspec": {
   "display_name": "Python 3 (ipykernel)",
   "language": "python",
   "name": "python3"
  },
  "language_info": {
   "codemirror_mode": {
    "name": "ipython",
    "version": 3
   },
   "file_extension": ".py",
   "mimetype": "text/x-python",
   "name": "python",
   "nbconvert_exporter": "python",
   "pygments_lexer": "ipython3",
   "version": "3.12.3"
  }
 },
 "nbformat": 4,
 "nbformat_minor": 5
}
