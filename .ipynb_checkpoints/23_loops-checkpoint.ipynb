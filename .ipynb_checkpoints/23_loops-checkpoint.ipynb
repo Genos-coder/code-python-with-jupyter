{
 "cells": [
  {
   "cell_type": "markdown",
   "id": "ecdc4e7e",
   "metadata": {},
   "source": [
    "### 🎈 Loops"
   ]
  },
  {
   "cell_type": "markdown",
   "id": "06b2f66f",
   "metadata": {},
   "source": [
    "### 🍭Iterate over sequenced variables"
   ]
  },
  {
   "cell_type": "code",
   "execution_count": null,
   "id": "6e1da7c4",
   "metadata": {},
   "outputs": [],
   "source": [
    "name = \"abhishek\"\n",
    "# for i in name:\n",
    "#     print(i, end = \",\")\n",
    "\n",
    "tup1 = (\"january\",\"february\",\"march\",\"may\")\n",
    "for i in tup1:\n",
    "    print(i,end=\" \")\n",
    "    \n",
    "#using loop to print table of 2\n",
    "# for i in range(1,11):\n",
    "#     print(f\"{i} X {2} : {i*2}\")"
   ]
  },
  {
   "cell_type": "markdown",
   "id": "96f1ea86",
   "metadata": {},
   "source": [
    "### 🍭Iterate using range"
   ]
  },
  {
   "cell_type": "code",
   "execution_count": null,
   "id": "515fc1aa",
   "metadata": {},
   "outputs": [],
   "source": [
    "# for i in range(10):\n",
    "#     print(i, end=\" \")\n",
    "for i in range(1,10,2):\n",
    "    print(i , end = \" \")"
   ]
  },
  {
   "cell_type": "markdown",
   "id": "aca612fd",
   "metadata": {},
   "source": [
    "### 🍭while loop"
   ]
  },
  {
   "cell_type": "code",
   "execution_count": null,
   "id": "fb27d648",
   "metadata": {},
   "outputs": [],
   "source": [
    "count = 5\n",
    "while(count>0):\n",
    "    print(count)\n",
    "    count = count-1 \n",
    "else:\n",
    "    print(\"counter is 0\")"
   ]
  },
  {
   "cell_type": "markdown",
   "id": "8802e41b",
   "metadata": {},
   "source": [
    "### 🍭nested loop"
   ]
  },
  {
   "cell_type": "code",
   "execution_count": null,
   "id": "4542ee40",
   "metadata": {},
   "outputs": [],
   "source": [
    "for i in range(1,4):\n",
    "    for j in range(1,4):\n",
    "        print(f\"{i} X {j} :{i*j}\")"
   ]
  },
  {
   "cell_type": "markdown",
   "id": "6a8f46c5",
   "metadata": {},
   "source": [
    "### 🍭Control flow statement"
   ]
  },
  {
   "cell_type": "code",
   "execution_count": null,
   "id": "5c3bd929",
   "metadata": {},
   "outputs": [],
   "source": [
    "#using pass\n",
    "i = 10\n",
    "for i in range(10):\n",
    "    pass # you can write this if you don't want to put any block of code in for loop\n",
    "\n",
    "if(i<10):\n",
    "    pass\n",
    "\n",
    "def do_something():\n",
    "    pass\n",
    "\n",
    "#continue\n",
    "\n",
    "for i in range(10):\n",
    "    if(i<5):\n",
    "        continue\n",
    "#     print(i)\n",
    "\n",
    "count2 = 0\n",
    "while(True):\n",
    "    count +=1 \n",
    "    if(count==10):\n",
    "        break\n"
   ]
  },
  {
   "cell_type": "code",
   "execution_count": null,
   "id": "a93b32fc",
   "metadata": {},
   "outputs": [],
   "source": []
  }
 ],
 "metadata": {
  "kernelspec": {
   "display_name": "Python 3 (ipykernel)",
   "language": "python",
   "name": "python3"
  },
  "language_info": {
   "codemirror_mode": {
    "name": "ipython",
    "version": 3
   },
   "file_extension": ".py",
   "mimetype": "text/x-python",
   "name": "python",
   "nbconvert_exporter": "python",
   "pygments_lexer": "ipython3",
   "version": "3.12.3"
  }
 },
 "nbformat": 4,
 "nbformat_minor": 5
}
