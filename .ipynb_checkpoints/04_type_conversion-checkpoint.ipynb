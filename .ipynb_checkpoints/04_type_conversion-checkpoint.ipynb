{
 "cells": [
  {
   "cell_type": "code",
   "execution_count": null,
   "id": "613aff49",
   "metadata": {},
   "outputs": [],
   "source": [
    "a = 12\n",
    "b = float(a)\n",
    "# print(type(b))\n",
    "b = int(a)\n",
    "# print(type(b))\n",
    "b = complex(a)\n",
    "# print(type(b), b)\n"
   ]
  }
 ],
 "metadata": {
  "kernelspec": {
   "display_name": "Python 3 (ipykernel)",
   "language": "python",
   "name": "python3"
  },
  "language_info": {
   "codemirror_mode": {
    "name": "ipython",
    "version": 3
   },
   "file_extension": ".py",
   "mimetype": "text/x-python",
   "name": "python",
   "nbconvert_exporter": "python",
   "pygments_lexer": "ipython3",
   "version": "3.12.3"
  }
 },
 "nbformat": 4,
 "nbformat_minor": 5
}
