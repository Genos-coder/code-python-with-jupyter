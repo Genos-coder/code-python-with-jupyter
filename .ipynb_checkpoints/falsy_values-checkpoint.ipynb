{
 "cells": [
  {
   "cell_type": "markdown",
   "id": "a7fc2848",
   "metadata": {},
   "source": [
    "### Question 1: Which of the following values will be evaluated as False by the `bool()` function?\n",
    "- \"Hello\"\n",
    "- 0\n",
    "- []\n",
    "- -1\n",
    "- {}\n",
    "- None\n",
    "\n",
    "```python\n",
    "print(bool(\"Hello\"), bool(0), bool([]), bool(-1), bool({}), bool(None))\n",
    "```"
   ]
  },
  {
   "cell_type": "markdown",
   "id": "96a2bd42",
   "metadata": {},
   "source": [
    "### Question 2: Predict the output:\n",
    "\n",
    "```python\n",
    "print(bool([]))\n",
    "print(bool(0))\n",
    "print(bool(\"Python\"))\n",
    "print(bool(None))\n",
    "```"
   ]
  },
  {
   "cell_type": "markdown",
   "id": "4a3209a7",
   "metadata": {},
   "source": [
    "### Question 3: Write a Python program that takes user input and checks if it's a falsy value."
   ]
  },
  {
   "cell_type": "code",
   "execution_count": null,
   "id": "ce5b5fff",
   "metadata": {},
   "outputs": [],
   "source": [
    "def check_falsy(input):\n",
    "    return bool(input)\n",
    "\n",
    "print(check_falsy(0))"
   ]
  },
  {
   "cell_type": "markdown",
   "id": "53805362",
   "metadata": {},
   "source": [
    "### Question 4: Identify the falsy values in this list:\n",
    "\n",
    "```python\n",
    "my_list = [0, 1, \"\", \"Hello\", [], [1, 2, 3], None, False]\n",
    "for i in range(len(my_list)):\n",
    "    print(bool(my_list[i]))\n",
    "```"
   ]
  },
  {
   "cell_type": "markdown",
   "id": "56dea14c",
   "metadata": {},
   "source": [
    "### Question 5: Explain why the output of `bool(0.0)` is `False` but `bool(0.00001)` is `True`.\n",
    "\n",
    "All forms of zero, including `0`, `0.0`, `0j`, and `00`, evaluate to `False`.\n",
    "However, `0.00001` is a small value, but it is not zero, so it evaluates to `True`.\n",
    "\n",
    "```python\n",
    "print(bool(0.0))\n",
    "print(bool(0.00001))\n",
    "```"
   ]
  },
  {
   "cell_type": "markdown",
   "id": "7644c109",
   "metadata": {},
   "source": [
    "### Question 6: Write a function that removes all falsy values from a list.\n",
    "\n",
    "**Input:** `[0, 1, \"\", None, [], \"Python\", False, 10]`  \n",
    "**Output:** `[1, \"Python\", 10]`"
   ]
  },
  {
   "cell_type": "code",
   "execution_count": null,
   "id": "0474ef48",
   "metadata": {},
   "outputs": [],
   "source": [
    "def remove_falsy(input_list):\n",
    "    new_list = []\n",
    "    for i in range(len(input_list)):\n",
    "        if bool(input_list[i]):\n",
    "            new_list.append(input_list[i])\n",
    "    return new_list\n",
    "\n",
    "print(remove_falsy([0, 1, \"\", None, [], \"Python\", False, 10]))"
   ]
  }
 ],
 "metadata": {
  "kernelspec": {
   "display_name": "Python 3 (ipykernel)",
   "language": "python",
   "name": "python3"
  },
  "language_info": {
   "codemirror_mode": {
    "name": "ipython",
    "version": 3
   },
   "file_extension": ".py",
   "mimetype": "text/x-python",
   "name": "python",
   "nbconvert_exporter": "python",
   "pygments_lexer": "ipython3",
   "version": "3.12.3"
  }
 },
 "nbformat": 4,
 "nbformat_minor": 5
}
