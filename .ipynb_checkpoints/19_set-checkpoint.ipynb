{
 "cells": [
  {
   "cell_type": "markdown",
   "id": "7e64ff83",
   "metadata": {},
   "source": [
    "### 🍭Adding in set"
   ]
  },
  {
   "cell_type": "code",
   "execution_count": 1,
   "id": "67846405",
   "metadata": {},
   "outputs": [
    {
     "name": "stdout",
     "output_type": "stream",
     "text": [
      "{1, 2, 3, 4, 5, 6, 7}\n"
     ]
    }
   ],
   "source": [
    "set1 = {1,2,3,4}\n",
    "set1.add(5)\n",
    "list1 = [5,6,7]\n",
    "set1.update(list1)\n",
    "print(set1)"
   ]
  },
  {
   "cell_type": "markdown",
   "id": "d1a662e9",
   "metadata": {},
   "source": [
    "### 🍭Removing in set"
   ]
  },
  {
   "cell_type": "code",
   "execution_count": 17,
   "id": "3d99e391",
   "metadata": {},
   "outputs": [],
   "source": [
    "set2 = {1,2,3,4}\n",
    "# set2.remove(4) #will raise the error in item is not present in set\n",
    "# set2.discard(4)# will not raise error in item is not present in set\n",
    "# set2.pop() # will remove any item set\n",
    "# print(set2)\n",
    "set2.clear() #will clear all items in set\n",
    "# del set2 # will delete entire set\n"
   ]
  },
  {
   "cell_type": "code",
   "execution_count": null,
   "id": "717a02b0",
   "metadata": {},
   "outputs": [],
   "source": []
  }
 ],
 "metadata": {
  "kernelspec": {
   "display_name": "Python 3 (ipykernel)",
   "language": "python",
   "name": "python3"
  },
  "language_info": {
   "codemirror_mode": {
    "name": "ipython",
    "version": 3
   },
   "file_extension": ".py",
   "mimetype": "text/x-python",
   "name": "python",
   "nbconvert_exporter": "python",
   "pygments_lexer": "ipython3",
   "version": "3.12.3"
  }
 },
 "nbformat": 4,
 "nbformat_minor": 5
}
