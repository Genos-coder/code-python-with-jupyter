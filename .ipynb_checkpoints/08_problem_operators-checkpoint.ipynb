{
 "cells": [
  {
   "cell_type": "markdown",
   "id": "4594762b",
   "metadata": {},
   "source": [
    "### Question 1: What will be the output?\n",
    "\n",
    "### Question 2: Write a program to calculate the area of a circle given its radius. (Use the formula area = π * r²)\n",
    "\n",
    "### Question 3: Predict the output:\n",
    "\n",
    "### Question 4: What will be the output?\n",
    "\n",
    "### Question 5: Convert 5 and 3 to binary and calculate 5 & 3, 5 | 3, and 5 ^ 3.\n",
    "\n",
    "### Question 6: What does 5 << 2 and 10 >> 1 mean? Calculate their results.\n",
    "\n",
    "### Question 7: Write a program that uses +=, -=, *=, and /= to modify a variable.\n",
    "\n",
    "### Question 8: What will be the output?\n",
    "\n",
    "### Question 9: Write a Python program that takes an integer input and:\n",
    "- Checks if it’s even or odd using the modulus operator.\n",
    "- Verifies if the number is between 10 and 50 using logical operators.\n",
    "- Uses a bitwise operator to multiply the number by 4."
   ]
  }
 ],
 "metadata": {
  "kernelspec": {
   "display_name": "Python 3 (ipykernel)",
   "language": "python",
   "name": "python3"
  },
  "language_info": {
   "codemirror_mode": {
    "name": "ipython",
    "version": 3
   },
   "file_extension": ".py",
   "mimetype": "text/x-python",
   "name": "python",
   "nbconvert_exporter": "python",
   "pygments_lexer": "ipython3",
   "version": "3.12.3"
  }
 },
 "nbformat": 4,
 "nbformat_minor": 5
}
