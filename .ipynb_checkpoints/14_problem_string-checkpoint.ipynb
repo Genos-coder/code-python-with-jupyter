{
 "cells": [
  {
   "cell_type": "markdown",
   "id": "12dc0b17",
   "metadata": {},
   "source": [
    "## Question 1: Concatenate two strings without using the + operator.\n",
    "\n",
    "## Question 2: Reverse the string 'Python' using slicing.\n",
    "\n",
    "## Question 3: Check if the string 'level' is a palindrome.\n",
    "\n",
    "## Question 4: Convert 'hello world' to uppercase and 'PYTHON' to lowercase.\n",
    "\n",
    "## Question 5: Remove leading and trailing spaces from the string ' Python '.\n",
    "\n",
    "## Question 6: Replace all occurrences of 'apple' with 'orange' in the string 'apple pie and apple juice'.\n",
    "\n",
    "## Question 7: Find the position of the first occurrence of 'world' in 'Hello world, welcome to the world of Python!'.\n",
    "\n",
    "## Question 8: Concatenation and Repetition\n",
    "\n",
    "## Question 9: Indexing and Slicing\n",
    "\n",
    "## Question 10: Manipulation Methods\n",
    "\n",
    "## Question 11: Check if the strings below are alphanumeric, alphabetic, numeric, uppercase, or lowercase.\n",
    "\n",
    "## Question 12: Search and Count Methods\n"
   ]
  },
  {
   "cell_type": "code",
   "execution_count": 2,
   "id": "94d970e3",
   "metadata": {},
   "outputs": [
    {
     "name": "stdout",
     "output_type": "stream",
     "text": [
      "hello world\n",
      "hello world\n"
     ]
    }
   ],
   "source": [
    "#Question 1: Concatenate two strings without using the + operator\n",
    "str1 = \"hello\"\n",
    "str2 = \"world\"\n",
    "print(\" \".join([str1, str2]))\n",
    "print(f\"{str1} {str2}\")\n"
   ]
  },
  {
   "cell_type": "code",
   "execution_count": null,
   "id": "cf5a84a8",
   "metadata": {},
   "outputs": [],
   "source": []
  }
 ],
 "metadata": {
  "kernelspec": {
   "display_name": "Python 3 (ipykernel)",
   "language": "python",
   "name": "python3"
  },
  "language_info": {
   "codemirror_mode": {
    "name": "ipython",
    "version": 3
   },
   "file_extension": ".py",
   "mimetype": "text/x-python",
   "name": "python",
   "nbconvert_exporter": "python",
   "pygments_lexer": "ipython3",
   "version": "3.12.3"
  }
 },
 "nbformat": 4,
 "nbformat_minor": 5
}
