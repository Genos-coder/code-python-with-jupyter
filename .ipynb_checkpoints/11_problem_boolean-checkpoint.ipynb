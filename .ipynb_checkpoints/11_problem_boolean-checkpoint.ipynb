{
 "cells": [
  {
   "cell_type": "markdown",
   "id": "3ebc6416",
   "metadata": {},
   "source": [
    "### Question 1: Which of the following values will be evaluated as False by the bool() function?\n",
    "\n",
    "- \"Hello\"\n",
    "- 0\n",
    "- []\n",
    "- -1\n",
    "- {}\n",
    "- None\n",
    "\n",
    "### Question 2: Predict the output:\n",
    "\n",
    "### Question 3: Write a Python program that takes user input and checks if it's a falsy value.\n",
    "\n",
    "### Question 4: Identify the falsy values in this list: [0,1,\"\",[],{1,2}]\n",
    "\n",
    "### Question 5: Explain why the output of `bool(0.0)` is `False` but `bool(0.00001)` is `True`.\n",
    "\n",
    "### Question 6: Write a function that removes all falsy values from a list.\n",
    "\n",
    "**Input:** `[0, 1, \"\", None, [], \"Python\", False, 10]`  \n",
    "**Output:** `[1, \"Python\", 10]`\n"
   ]
  },
  {
   "cell_type": "code",
   "execution_count": 1,
   "id": "d0be59d6",
   "metadata": {},
   "outputs": [
    {
     "name": "stdout",
     "output_type": "stream",
     "text": [
      "False\n"
     ]
    }
   ],
   "source": [
    "#Question1\n",
    "def check_falsy(input):\n",
    "    return bool(input)\n",
    "\n",
    "print(check_falsy({}))"
   ]
  },
  {
   "cell_type": "code",
   "execution_count": 2,
   "id": "d9ca1830",
   "metadata": {},
   "outputs": [
    {
     "name": "stdout",
     "output_type": "stream",
     "text": [
      "[{12}, [1, 3], -1]\n"
     ]
    }
   ],
   "source": [
    "#question4:\n",
    "def sort_nonfalsy_value(input_list):\n",
    "    truthy_list = []\n",
    "    for i in range(len(input_list)):\n",
    "        if(bool(input_list[i])):\n",
    "            truthy_list.append(input_list[i])\n",
    "    return truthy_list\n",
    "print(sort_nonfalsy_value([0,{12},[1,3],[],-1]))"
   ]
  },
  {
   "cell_type": "code",
   "execution_count": 6,
   "id": "9f450004",
   "metadata": {},
   "outputs": [
    {
     "data": {
      "text/plain": [
       "\"\\nthe all types of zeros are 0, 0.00, 0.000 but the 0.000001 still not a complete zero that's why bool(0.0) return false and bool(0.00001) returns true\\n\""
      ]
     },
     "execution_count": 6,
     "metadata": {},
     "output_type": "execute_result"
    }
   ],
   "source": [
    "#Question5\n",
    "\n",
    "\"\"\"\n",
    "the all types of zeros are 0, 0.00, 0.000 but the 0.000001 still not a complete zero that's why bool(0.0) return false and bool(0.00001) returns true\n",
    "\"\"\""
   ]
  },
  {
   "cell_type": "code",
   "execution_count": null,
   "id": "66c7db7c",
   "metadata": {},
   "outputs": [],
   "source": []
  }
 ],
 "metadata": {
  "kernelspec": {
   "display_name": "Python 3 (ipykernel)",
   "language": "python",
   "name": "python3"
  },
  "language_info": {
   "codemirror_mode": {
    "name": "ipython",
    "version": 3
   },
   "file_extension": ".py",
   "mimetype": "text/x-python",
   "name": "python",
   "nbconvert_exporter": "python",
   "pygments_lexer": "ipython3",
   "version": "3.12.3"
  }
 },
 "nbformat": 4,
 "nbformat_minor": 5
}
