{
 "cells": [
  {
   "cell_type": "markdown",
   "id": "4594762b",
   "metadata": {},
   "source": [
    "### Question 1: What will be the output?\n",
    "\n",
    "### Question 2: Write a program to calculate the area of a circle given its radius. (Use the formula area = π * r²)\n",
    "\n",
    "### Question 3: Predict the output:\n",
    "\n",
    "### Question 4: What will be the output?\n",
    "\n",
    "### Question 5: Convert 5 and 3 to binary and calculate 5 & 3, 5 | 3, and 5 ^ 3.\n",
    "\n",
    "### Question 6: What does 5 << 2 and 10 >> 1 mean? Calculate their results.\n",
    "\n",
    "### Question 7: Write a program that uses +=, -=, *=, and /= to modify a variable.\n",
    "\n",
    "### Question 8: What will be the output?\n",
    "\n",
    "### Question 9: Write a Python program that takes an integer input and:\n",
    "- Checks if it’s even or odd using the modulus operator.\n",
    "- Verifies if the number is between 10 and 50 using logical operators.\n",
    "- Uses a bitwise operator to multiply the number by 4."
   ]
  },
  {
   "cell_type": "code",
   "execution_count": 2,
   "id": "9cb2e942",
   "metadata": {},
   "outputs": [
    {
     "name": "stdout",
     "output_type": "stream",
     "text": [
      "12.56\n"
     ]
    }
   ],
   "source": [
    "#Question2\n",
    "def calculateArea(radius):\n",
    "    return 3.14*(radius**2)\n",
    "\n",
    "print(calculateArea(2))"
   ]
  },
  {
   "cell_type": "code",
   "execution_count": 4,
   "id": "c8c16e36",
   "metadata": {},
   "outputs": [
    {
     "name": "stdout",
     "output_type": "stream",
     "text": [
      "0b101 0b11\n",
      "1\n",
      "6\n"
     ]
    }
   ],
   "source": [
    "#Question5\n",
    "\n",
    "a = bin(5)\n",
    "b = bin(3)\n",
    "print(a,b)\n",
    "print(5 & 3)\n",
    "print(5 ^ 3) #XOR\n"
   ]
  },
  {
   "cell_type": "code",
   "execution_count": 5,
   "id": "fe9a90c8",
   "metadata": {},
   "outputs": [
    {
     "name": "stdout",
     "output_type": "stream",
     "text": [
      "12\n"
     ]
    }
   ],
   "source": [
    "#Question7\n",
    "def performOpt(input):\n",
    "    input +=12\n",
    "    input -=10\n",
    "    input *=1\n",
    "    input /-10\n",
    "    return input\n",
    "\n",
    "print(performOpt(10))"
   ]
  },
  {
   "cell_type": "code",
   "execution_count": 10,
   "id": "777a3e64",
   "metadata": {},
   "outputs": [
    {
     "name": "stdout",
     "output_type": "stream",
     "text": [
      "Enter a number12\n",
      "This is a even number\n",
      "Number is between the provided range\n"
     ]
    }
   ],
   "source": [
    "number =int(input(\"Enter a number\"))\n",
    "\n",
    "if number%2 == 0:\n",
    "    print(\"This is a even number\")\n",
    "elif number%2 != 0:\n",
    "    print(\"This is a odd number\")\n",
    "if 10 < number <50:\n",
    "    print(\"Number is between the provided range\")"
   ]
  },
  {
   "cell_type": "code",
   "execution_count": null,
   "id": "deff9014",
   "metadata": {},
   "outputs": [],
   "source": []
  }
 ],
 "metadata": {
  "kernelspec": {
   "display_name": "Python 3 (ipykernel)",
   "language": "python",
   "name": "python3"
  },
  "language_info": {
   "codemirror_mode": {
    "name": "ipython",
    "version": 3
   },
   "file_extension": ".py",
   "mimetype": "text/x-python",
   "name": "python",
   "nbconvert_exporter": "python",
   "pygments_lexer": "ipython3",
   "version": "3.12.3"
  }
 },
 "nbformat": 4,
 "nbformat_minor": 5
}
