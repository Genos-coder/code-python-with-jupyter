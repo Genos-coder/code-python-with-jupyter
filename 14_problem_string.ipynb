{
 "cells": [
  {
   "cell_type": "markdown",
   "id": "12dc0b17",
   "metadata": {},
   "source": [
    "## Question 1: Concatenate two strings without using the + operator.\n",
    "\n",
    "## Question 2: Reverse the string 'Python' using slicing.\n",
    "\n",
    "## Question 3: Check if the string 'level' is a palindrome.\n",
    "\n",
    "## Question 4: Convert 'hello world' to uppercase and 'PYTHON' to lowercase.\n",
    "\n",
    "## Question 5: Remove leading and trailing spaces from the string ' Python '.\n",
    "\n",
    "## Question 6: Replace all occurrences of 'apple' with 'orange' in the string 'apple pie and apple juice'.\n",
    "\n",
    "## Question 7: Find the position of the first occurrence of 'world' in 'Hello world, welcome to the world of Python!'.\n",
    "\n",
    "## Question 8: Concatenation and Repetition\n",
    " - step-1: Create two strings, \"Hello\" and \"World\".\n",
    " - step-2: Concatenate them with a space in between.\n",
    " - step-3: Repeat the concatenated string 3 times.\n",
    "## Question 9: Indexing and Slicing\n",
    " - step-1: Given the string \"PythonProgramming\", extract the following:\n",
    " - step-2: First 6 characters\n",
    " - step-3: Last 5 characters\n",
    " - step-4: Characters at even indices\n",
    " - step-5: Reverse the string\n",
    "\n",
    "## Question 10: Manipulation Methods\n",
    " - step-1: Use the string: \" Python is AWESOME!!! \"\n",
    " - step-2: Remove leading and trailing spaces.\n",
    " - step-3: Convert it to lowercase, uppercase, and title case.\n",
    " - step-4: Replace \"AWESOME\" with \"great\".\n",
    " - step-5: Split the string by spaces.\n",
    " - step-6: Join it back with a hyphen \"-\".\n",
    "## Question 11: Check if the strings below are alphanumeric, alphabetic, numeric, uppercase, or lowercase.\n",
    "- \"Python123\" ,\"2025\",\"HELLO\",\"hello\",\"$money$\"\n",
    "\n",
    "\n",
    "## Question 12: Search and Count Methods\n",
    " - step-1: Use the string: \"Python is popular and powerful\"\n",
    "\n",
    " - step-2: Find the position of the word \"popular\".\n",
    " - step-3: Check if the word \"power\" exists in the string.\n",
    " - step-4: Count how many times the letter \"p\" appears.\n"
   ]
  },
  {
   "cell_type": "code",
   "execution_count": null,
   "id": "94d970e3",
   "metadata": {},
   "outputs": [],
   "source": [
    "#Question 1: Concatenate two strings without using the + operator\n",
    "str1 = \"hello\"\n",
    "str2 = \"world\"\n",
    "print(\" \".join([str1, str2]))\n",
    "print(f\"{str1} {str2}\")\n",
    "print(\"{} {}\".format(str1, str2))\n",
    "print"
   ]
  },
  {
   "cell_type": "code",
   "execution_count": null,
   "id": "cf5a84a8",
   "metadata": {},
   "outputs": [],
   "source": [
    "def check_palindrome(input):\n",
    "    return input[::-1] == input\n",
    "print(check_palindrome(\"level\"))"
   ]
  },
  {
   "cell_type": "code",
   "execution_count": null,
   "id": "8a35cdb0",
   "metadata": {},
   "outputs": [],
   "source": [
    "print(\"hello world\".upper(), \"PYTHON\".lower())"
   ]
  },
  {
   "cell_type": "code",
   "execution_count": null,
   "id": "61e19037",
   "metadata": {},
   "outputs": [],
   "source": [
    "str3 = \"apple pie and apple juice\"\n",
    "\n",
    "print(str3.replace(\"apple\",\"orange\"))"
   ]
  },
  {
   "cell_type": "code",
   "execution_count": null,
   "id": "d669dfb1",
   "metadata": {},
   "outputs": [],
   "source": []
  }
 ],
 "metadata": {
  "kernelspec": {
   "display_name": "Python 3 (ipykernel)",
   "language": "python",
   "name": "python3"
  },
  "language_info": {
   "codemirror_mode": {
    "name": "ipython",
    "version": 3
   },
   "file_extension": ".py",
   "mimetype": "text/x-python",
   "name": "python",
   "nbconvert_exporter": "python",
   "pygments_lexer": "ipython3",
   "version": "3.12.3"
  }
 },
 "nbformat": 4,
 "nbformat_minor": 5
}
