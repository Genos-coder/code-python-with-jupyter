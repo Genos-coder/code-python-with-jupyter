{
 "cells": [
  {
   "cell_type": "markdown",
   "id": "ea515ce6",
   "metadata": {},
   "source": [
    "# Question 1: Concatenate two strings without using the + operator."
   ]
  },
  {
   "cell_type": "code",
   "execution_count": null,
   "id": "f0945613",
   "metadata": {},
   "outputs": [],
   "source": [
    "# Using f-string\n",
    "str1 = \"hello\"\n",
    "str2 = \"world\"\n",
    "print(f\"{str1} {str2}\")\n",
    "\n",
    "# Using join method\n",
    "print(\" \".join([str1, str2]))\n",
    "\n",
    "# Using format method\n",
    "print(\"{} {}\".format(str1, str2))\n",
    "print(\"{1} {0}\".format(\"first\", \"second\"))"
   ]
  },
  {
   "cell_type": "markdown",
   "id": "151413dd",
   "metadata": {},
   "source": [
    "# Question 2: Reverse the string 'Python' using slicing."
   ]
  },
  {
   "cell_type": "code",
   "execution_count": null,
   "id": "796c3f72",
   "metadata": {},
   "outputs": [],
   "source": [
    "def reverseStr(input):\n",
    "    return input[::-1]\n",
    "\n",
    "print(reverseStr(\"Python\"))"
   ]
  },
  {
   "cell_type": "markdown",
   "id": "99870395",
   "metadata": {},
   "source": [
    "# Question 3: Check if the string 'level' is a palindrome."
   ]
  },
  {
   "cell_type": "code",
   "execution_count": null,
   "id": "610abba6",
   "metadata": {},
   "outputs": [],
   "source": [
    "def checkPalindrome(input):\n",
    "    return input == input[::-1]\n",
    "\n",
    "print(checkPalindrome(\"level\"))"
   ]
  },
  {
   "cell_type": "markdown",
   "id": "7a0b4a45",
   "metadata": {},
   "source": [
    "# Question 4: Convert 'hello world' to uppercase and 'PYTHON' to lowercase."
   ]
  },
  {
   "cell_type": "code",
   "execution_count": null,
   "id": "31eea7a7",
   "metadata": {},
   "outputs": [],
   "source": [
    "str3 = \"hello world\"\n",
    "print(str3.upper())\n",
    "print(str3.lower())"
   ]
  },
  {
   "cell_type": "markdown",
   "id": "94062c32",
   "metadata": {},
   "source": [
    "# Question 5: Remove leading and trailing spaces from the string ' Python '."
   ]
  },
  {
   "cell_type": "code",
   "execution_count": null,
   "id": "6a3b3a22",
   "metadata": {},
   "outputs": [],
   "source": [
    "str4 = \" Python \"\n",
    "print(str4.rstrip())\n",
    "print(str4.lstrip())\n",
    "print(str4.strip())"
   ]
  },
  {
   "cell_type": "markdown",
   "id": "ecd8bb22",
   "metadata": {},
   "source": [
    "# Question 6: Replace all occurrences of 'apple' with 'orange' in the string 'apple pie and apple juice'."
   ]
  },
  {
   "cell_type": "code",
   "execution_count": null,
   "id": "10872979",
   "metadata": {},
   "outputs": [],
   "source": [
    "str5 = \"apple pie and apple juice\"\n",
    "print(str5.replace(\"apple\", \"orange\"))"
   ]
  },
  {
   "cell_type": "markdown",
   "id": "c1804ffb",
   "metadata": {},
   "source": [
    "# Question 7: Find the position of the first occurrence of 'world' in 'Hello world, welcome to the world of Python!'."
   ]
  },
  {
   "cell_type": "code",
   "execution_count": null,
   "id": "9396cca4",
   "metadata": {},
   "outputs": [],
   "source": [
    "str6 = \"Hello world, welcome to the world of Python!\"\n",
    "print(str6.find(\"world\"))"
   ]
  },
  {
   "cell_type": "markdown",
   "id": "8f609d0f",
   "metadata": {},
   "source": [
    "# Question 8: Concatenation and Repetition"
   ]
  },
  {
   "cell_type": "code",
   "execution_count": null,
   "id": "c692e175",
   "metadata": {},
   "outputs": [],
   "source": [
    "str6 = \"Hello\"\n",
    "str7 = \"World\"\n",
    "newStr = \" \".join([str6, str7])\n",
    "print(newStr * 3)"
   ]
  },
  {
   "cell_type": "markdown",
   "id": "16f940fd",
   "metadata": {},
   "source": [
    "# Question 9: Indexing and Slicing"
   ]
  },
  {
   "cell_type": "code",
   "execution_count": null,
   "id": "f59df04e",
   "metadata": {},
   "outputs": [],
   "source": [
    "str8 = \"PythonProgramming\"\n",
    "print(str8[:6])  # First 6 characters\n",
    "print(str8[-5:])  # Last 5 characters\n",
    "print(str8[::2])  # Characters at even indices\n",
    "print(str8[::-1])  # Reverse the string"
   ]
  },
  {
   "cell_type": "markdown",
   "id": "87075c8d",
   "metadata": {},
   "source": [
    "# Question 10: Manipulation Methods"
   ]
  },
  {
   "cell_type": "code",
   "execution_count": null,
   "id": "9cd4e3a4",
   "metadata": {},
   "outputs": [],
   "source": [
    "str9 = \" Python is AWESOME!!! \"\n",
    "print(str9.strip())  # Remove leading and trailing spaces\n",
    "print(str9.upper(), str9.lower(), str9.title())  # Case conversions\n",
    "print(str9.replace(\"AWESOME\", \"great\"))  # Replace substring\n",
    "print(str9.split(\" \"))  # Split the string\n",
    "print(\"-\".join(str9.split(\" \")))  # Join with hyphen"
   ]
  },
  {
   "cell_type": "markdown",
   "id": "fc37a41c",
   "metadata": {},
   "source": [
    "# Question 11: Check if the strings below are alphanumeric, alphabetic, numeric, uppercase, or lowercase."
   ]
  },
  {
   "cell_type": "code",
   "execution_count": null,
   "id": "dce2bdfa",
   "metadata": {},
   "outputs": [],
   "source": [
    "print(\"Python123\".isalnum())\n",
    "print(\"2025\".isnumeric())\n",
    "print(\"HELLO\".isupper())\n",
    "print(\"hello\".islower())\n",
    "print(\"$money$\".isalpha())"
   ]
  },
  {
   "cell_type": "markdown",
   "id": "519f8037",
   "metadata": {},
   "source": [
    "# Question 12: Search and Count Methods"
   ]
  },
  {
   "cell_type": "code",
   "execution_count": null,
   "id": "442e2e1f",
   "metadata": {},
   "outputs": [],
   "source": [
    "str10 = \"Python is popular and powerful\"\n",
    "print(str10.find(\"popular\"))  # Find position of \"popular\"\n",
    "print(\"power\" in str10)  # Check if \"power\" exists\n",
    "print(str10.count(\"p\"))  # Count occurrences of \"p\""
   ]
  }
 ],
 "metadata": {
  "kernelspec": {
   "display_name": "Python 3 (ipykernel)",
   "language": "python",
   "name": "python3"
  },
  "language_info": {
   "codemirror_mode": {
    "name": "ipython",
    "version": 3
   },
   "file_extension": ".py",
   "mimetype": "text/x-python",
   "name": "python",
   "nbconvert_exporter": "python",
   "pygments_lexer": "ipython3",
   "version": "3.12.3"
  }
 },
 "nbformat": 4,
 "nbformat_minor": 5
}
