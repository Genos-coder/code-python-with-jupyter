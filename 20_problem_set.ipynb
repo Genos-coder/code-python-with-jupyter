{
 "cells": [
  {
   "cell_type": "markdown",
   "id": "e84e8f25",
   "metadata": {},
   "source": [
    "# Python Sets - Practice Questions\n",
    "\n",
    "### 1. Create a set named `fruits` containing \"apple\", \"banana\", and \"cherry\".\n",
    "\n",
    "### 2. Add \"orange\" to the `fruits` set.\n",
    "\n",
    "### 3. Remove \"banana\" from the `fruits` set.\n",
    "\n",
    "### 4. Create two sets:\n",
    "   ```python\n",
    "   A = {1, 2, 3, 4, 5}\n",
    "   B = {4, 5, 6, 7, 8}\n",
    "   ```\n",
    "   Find the union of `A` and `B`.\n",
    "\n",
    "### 5. Find the intersection of `A` and `B`.\n",
    "\n",
    "### 6. Find the difference between `A` and `B`.\n",
    "\n",
    "### 7. Find the symmetric difference between `A` and `B`.\n",
    "\n",
    "### 8. Check if `A` is a subset of `{1, 2, 3, 4, 5, 6, 7, 8, 9}`.\n",
    "\n",
    "### 9. Check if `{4, 5}` is a subset of `A`.\n",
    "\n",
    "### 10. Create an empty set and check its type.\n",
    "\n",
    "### 11. Convert the list `[1, 2, 3, 1, 2, 4, 5, 6, 5]` into a set and print the result.\n",
    "\n",
    "### 12. Iterate over a set containing {\"Python\", \"Java\", \"C++\"} and print each element.\n"
   ]
  },
  {
   "cell_type": "code",
   "execution_count": null,
   "id": "550d0783",
   "metadata": {},
   "outputs": [],
   "source": []
  }
 ],
 "metadata": {
  "kernelspec": {
   "display_name": "Python 3 (ipykernel)",
   "language": "python",
   "name": "python3"
  },
  "language_info": {
   "codemirror_mode": {
    "name": "ipython",
    "version": 3
   },
   "file_extension": ".py",
   "mimetype": "text/x-python",
   "name": "python",
   "nbconvert_exporter": "python",
   "pygments_lexer": "ipython3",
   "version": "3.12.3"
  }
 },
 "nbformat": 4,
 "nbformat_minor": 5
}
