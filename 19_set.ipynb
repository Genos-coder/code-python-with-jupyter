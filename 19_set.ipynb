{
 "cells": [
  {
   "cell_type": "markdown",
   "id": "7e64ff83",
   "metadata": {},
   "source": [
    "### 🍭Adding in set"
   ]
  },
  {
   "cell_type": "code",
   "execution_count": null,
   "id": "67846405",
   "metadata": {},
   "outputs": [],
   "source": [
    "set1 = {1,2,3,4}\n",
    "set1.add(5)\n",
    "list1 = [5,6,7]\n",
    "set1.update(list1)\n",
    "print(set1)"
   ]
  },
  {
   "cell_type": "markdown",
   "id": "d1a662e9",
   "metadata": {},
   "source": [
    "### 🍭Removing in set"
   ]
  },
  {
   "cell_type": "code",
   "execution_count": null,
   "id": "3d99e391",
   "metadata": {},
   "outputs": [],
   "source": [
    "set2 = {1,2,3,4}\n",
    "# set2.remove(4) #will raise the error in item is not present in set\n",
    "# set2.discard(4)# will not raise error in item is not present in set\n",
    "set2.pop() # will remove last item in set but set's are unordered\n",
    "print(set2)\n",
    "# set2.clear() #will clear all items in set\n",
    "# del set2 # will delete entire set\n"
   ]
  },
  {
   "cell_type": "markdown",
   "id": "7c6cda24",
   "metadata": {},
   "source": [
    "### 🍭set specific methods"
   ]
  },
  {
   "cell_type": "code",
   "execution_count": null,
   "id": "49fa35f6",
   "metadata": {},
   "outputs": [],
   "source": [
    "set3 = {\"russia\",\"bhutan\",\"turkey\"}\n",
    "set4 = {\"nepal\",\"japan\",\"singapore\"}\n",
    "# print(set4.union(set3))\n",
    "\n",
    "#common elements in set\n",
    "set5 ={1,2,3,4,5}\n",
    "set6 = {4,5,6,7,8}\n",
    "# print(set5.intersection(set6))\n",
    "set5.intersection_update(set6)\n",
    "# print(set5)\n",
    "set7 = {1,2,3,4,5}\n",
    "set8 = {4,5,6,7,8}\n",
    "# print(set7.symmetric_difference(set8))\n",
    "# set7.symmetric_difference_update(set8)\n",
    "# print(set7)\n",
    "# print(set7.difference(set8))\n",
    "# print(set7.difference_update(set8))\n",
    "# print(set7)\n"
   ]
  },
  {
   "cell_type": "code",
   "execution_count": null,
   "id": "70eb2d8b",
   "metadata": {},
   "outputs": [],
   "source": [
    "# Cheking items of sets\n",
    "\n",
    "# cities = {\"Tokyo\", \"Madrid\", \"Berlin\", \"Delhi\"}\n",
    "# cities2 = {\"Tokyo\", \"Seoul\", \"Kabul\", \"Madrid\"}\n",
    "# print(cities.isdisjoint(cities2))\n",
    "\n",
    "# cities = {\"Tokyo\", \"Madrid\", \"Berlin\", \"Delhi\"}\n",
    "# cities2 = {\"Seoul\", \"Kabul\"}\n",
    "# print(cities.issuperset(cities2))\n",
    "# cities3 = {\"Seoul\", \"Madrid\",\"Kabul\"}\n",
    "# print(cities.issuperset(cities3))\n",
    "\n",
    "# cities = {\"Tokyo\", \"Madrid\", \"Berlin\", \"Delhi\"}\n",
    "# cities2 = {\"Delhi\", \"Madrid\"}\n",
    "# print(cities.issuperset(cities2))\n",
    "\n",
    "# cities = {\"Tokyo\", \"Madrid\", \"Berlin\", \"Delhi\"}\n",
    "# cities2 = {\"Delhi\", \"Madrid\"}\n",
    "# print(cities2.issubset(cities))"
   ]
  },
  {
   "cell_type": "code",
   "execution_count": null,
   "id": "66e8ac52",
   "metadata": {},
   "outputs": [],
   "source": []
  }
 ],
 "metadata": {
  "kernelspec": {
   "display_name": "Python 3 (ipykernel)",
   "language": "python",
   "name": "python3"
  },
  "language_info": {
   "codemirror_mode": {
    "name": "ipython",
    "version": 3
   },
   "file_extension": ".py",
   "mimetype": "text/x-python",
   "name": "python",
   "nbconvert_exporter": "python",
   "pygments_lexer": "ipython3",
   "version": "3.12.3"
  }
 },
 "nbformat": 4,
 "nbformat_minor": 5
}
