{
 "cells": [
  {
   "cell_type": "markdown",
   "id": "263eaffa",
   "metadata": {},
   "source": [
    "# 🐍 Python List Practice Questions\n",
    "\n",
    "## 1️⃣ Create a List and Print It\n",
    "Write a Python program to create a list of five different fruits and print the list.\n",
    "\n",
    "## 2️⃣ Accessing List Elements\n",
    "Given the list:\n",
    "```python\n",
    "numbers = [10, 20, 30, 40, 50]\n",
    "```\n",
    "- Print the first and last elements of the list.\n",
    "\n",
    "## 3️⃣ List Slicing\n",
    "Given the list:\n",
    "```python\n",
    "colors = [\"red\", \"green\", \"blue\", \"yellow\", \"purple\", \"orange\"]\n",
    "```\n",
    "- Extract and print the first three elements using slicing.\n",
    "\n",
    "## 4️⃣ Modify a List\n",
    "- Create a list of three programming languages.\n",
    "- Change the second element to `\"JavaScript\"`.\n",
    "- Print the modified list.\n",
    "\n",
    "## 5️⃣ Add and Remove Elements\n",
    "- Create an empty list.\n",
    "- Append the numbers `1`, `2`, and `3` to the list.\n",
    "- Remove the second element.\n",
    "- Print the final list.\n",
    "\n",
    "## 6️⃣ Find the Sum of List Elements\n",
    "Write a Python program to find the sum of all elements in the following list:\n",
    "```python\n",
    "numbers = [4, 7, 1, 8, 3]\n",
    "```\n",
    "\n",
    "## 7️⃣ Find the Maximum and Minimum\n",
    "Write a program to find the maximum and minimum values in this list:\n",
    "```python\n",
    "values = [23, 67, 12, 89, 34, 50]\n",
    "```\n",
    "\n",
    "## 8️⃣ Check if an Element Exists\n",
    "Write a Python program that checks if `\"apple\"` exists in the following list and prints `\"Found\"` if it exists or `\"Not Found\"` otherwise.\n",
    "```python\n",
    "fruits = [\"banana\", \"orange\", \"grapes\", \"apple\", \"mango\"]\n",
    "```\n",
    "\n",
    "## 9️⃣ Reverse a List\n",
    "Given the list:\n",
    "```python\n",
    "names = [\"Alice\", \"Bob\", \"Charlie\", \"David\"]\n",
    "```\n",
    "- Reverse the list and print it.\n",
    "\n",
    "## 🔟 List Comprehension\n",
    "Use list comprehension to generate a list of squares for numbers from 1 to 10.\n",
    "\n",
    "```python\n",
    "squares = # Your code here\n",
    "print(squares)\n",
    "```\n"
   ]
  },
  {
   "cell_type": "code",
   "execution_count": null,
   "id": "6d03ae7e",
   "metadata": {},
   "outputs": [],
   "source": [
    "# Question2\n",
    "# Print the first and last elements of the list\n",
    "numbers = [10, 20, 30, 40, 50]\n",
    "print(numbers[0],numbers[-1])\n"
   ]
  },
  {
   "cell_type": "code",
   "execution_count": null,
   "id": "77df9a43",
   "metadata": {},
   "outputs": [],
   "source": [
    "#Question3\n",
    "colors = [\"red\", \"green\", \"blue\", \"yellow\", \"purple\", \"orange\"]\n",
    "# Extract and print the first three elements using slicing.\n",
    "print(colors[0:3])"
   ]
  },
  {
   "cell_type": "code",
   "execution_count": null,
   "id": "221b8956",
   "metadata": {},
   "outputs": [],
   "source": [
    "# Question4\n",
    "# Modify a List¶\n",
    "# Create a list of three programming languages.\n",
    "# Change the second element to \"JavaScript\".\n",
    "# Print the modified list.\n",
    "programming_language_list = [\"c++\",\"c#\",\"python\"]\n",
    "programming_language_list[1] = \"javascript\"\n",
    "print(programming_language_list)"
   ]
  },
  {
   "cell_type": "code",
   "execution_count": null,
   "id": "f92b8423",
   "metadata": {},
   "outputs": [],
   "source": [
    "#Question5\n",
    "# Add and Remove Elements¶\n",
    "# Create an empty list.\n",
    "# Append the numbers 1, 2, and 3 to the list.\n",
    "# Remove the second element.\n",
    "# Print the final list.\n",
    "curr_list = []\n",
    "for i in range(3):\n",
    "    curr_list.append(i+1)\n",
    "\n",
    "curr_list.remove(2)\n",
    "print(curr_list)"
   ]
  },
  {
   "cell_type": "code",
   "execution_count": null,
   "id": "2d5b1d36",
   "metadata": {},
   "outputs": [],
   "source": [
    "#Question6\n",
    "# Find the Sum of List Elements¶\n",
    "# Write a Python program to find the sum of all elements in the following list:\n",
    "    \n",
    "numbers = [4, 7, 1, 8, 3]\n",
    "def get_sum_list(input):\n",
    "    sum = 0\n",
    "    for i in range(len(input)):\n",
    "        sum +=input[i]\n",
    "    return sum\n",
    "print(get_sum_list(numbers))"
   ]
  },
  {
   "cell_type": "code",
   "execution_count": null,
   "id": "453d9b0e",
   "metadata": {},
   "outputs": [],
   "source": [
    "# Question7:\n",
    "# Find the Maximum and Minimum¶\n",
    "# Write a program to find the maximum and minimum values in this list:\n",
    "values = [23, 67, 12, 89, 34, 50]\n",
    "def find_max_list(input):\n",
    "    max = 0\n",
    "    for i in range(len(input)):\n",
    "        if max<input[i]:\n",
    "            max = input[i]\n",
    "    return max\n",
    "def find_min_list(input):\n",
    "    min = input[0]\n",
    "    for i in range(len(input)):\n",
    "        if min>input[i]:\n",
    "            min = input[i]\n",
    "    return min\n",
    "print(find_max_list(values))\n",
    "print(find_min_list(values))"
   ]
  },
  {
   "cell_type": "code",
   "execution_count": null,
   "id": "730af266",
   "metadata": {},
   "outputs": [],
   "source": [
    "# Question8:\n",
    "# Check if an Element Exists¶\n",
    "# Write a Python program that checks if \"apple\" exists in the following list and prints \"Found\" if it exists or \"Not Found\" otherwise.\n",
    "\n",
    "fruits = [\"banana\", \"orange\", \"grapes\", \"apple\", \"mango\"]\n",
    "if \"apple\" in fruits:\n",
    "    print(\"it exits\")\n",
    "else:\n",
    "    print(\"not found\")"
   ]
  },
  {
   "cell_type": "code",
   "execution_count": null,
   "id": "770b75f6",
   "metadata": {},
   "outputs": [],
   "source": [
    "# Question9:\n",
    "# Reverse a List¶\n",
    "# Given the list:\n",
    "\n",
    "names = [\"Alice\", \"Bob\", \"Charlie\", \"David\"]\n",
    "# Reverse the list and print it.\n",
    "def reverse_list(input):\n",
    "    return input[::-1]\n",
    "print(reverse_list(names))"
   ]
  },
  {
   "cell_type": "code",
   "execution_count": null,
   "id": "d2338d1a",
   "metadata": {},
   "outputs": [],
   "source": [
    "#Question10:\n",
    "# List Comprehension¶\n",
    "# Use list comprehension to generate a list of squares for numbers from 1 to 10.\n",
    "\n",
    "squares = [item**2 for item in range(1,11) ]\n",
    "print(squares)"
   ]
  },
  {
   "cell_type": "code",
   "execution_count": null,
   "id": "e1270078",
   "metadata": {},
   "outputs": [],
   "source": []
  }
 ],
 "metadata": {
  "kernelspec": {
   "display_name": "Python 3 (ipykernel)",
   "language": "python",
   "name": "python3"
  },
  "language_info": {
   "codemirror_mode": {
    "name": "ipython",
    "version": 3
   },
   "file_extension": ".py",
   "mimetype": "text/x-python",
   "name": "python",
   "nbconvert_exporter": "python",
   "pygments_lexer": "ipython3",
   "version": "3.12.3"
  }
 },
 "nbformat": 4,
 "nbformat_minor": 5
}
