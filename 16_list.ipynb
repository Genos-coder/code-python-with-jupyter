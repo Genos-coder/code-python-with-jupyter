{
 "cells": [
  {
   "cell_type": "markdown",
   "id": "3f9e63d2",
   "metadata": {},
   "source": [
    "# 🎈 Basics of  list"
   ]
  },
  {
   "cell_type": "code",
   "execution_count": null,
   "id": "1eed897e",
   "metadata": {},
   "outputs": [],
   "source": [
    "list1 = [1,2,3,4]\n",
    "#accessing the string using array notation\n",
    "\n",
    "print(list1[0])\n",
    "print(list1[::-1])\n",
    "#same as of string slicing\n",
    "\n",
    "#cheking the item present in list using in operator\n",
    "print(1 in list1)"
   ]
  },
  {
   "cell_type": "markdown",
   "id": "8a373d03",
   "metadata": {},
   "source": [
    "### 🍭 List adding methods"
   ]
  },
  {
   "cell_type": "code",
   "execution_count": null,
   "id": "992e23da",
   "metadata": {},
   "outputs": [],
   "source": [
    "list2 = [\"first\",\"second\", \"third\"]\n",
    "# list2.append(\"fourth\")\n",
    "# list2.append(5)\n",
    "list2.insert(3,100)\n",
    "# arr1.extend([6,7,8,9])\n",
    "print(list2)"
   ]
  },
  {
   "cell_type": "markdown",
   "id": "f80a56fd",
   "metadata": {},
   "source": [
    "### 🍭 List Deleting methods"
   ]
  },
  {
   "cell_type": "code",
   "execution_count": null,
   "id": "12133812",
   "metadata": {},
   "outputs": [],
   "source": [
    "list3 = [1,2,3,4]\n",
    "# print(list3.pop())\n",
    "# print(list3.pop(0))\n",
    "list4 = [\"sugar\",\"milk\",\"berries\",\"donut\"]\n",
    "list4.remove(\"donut\")\n",
    "# print(list4)\n",
    "del list4[0]\n",
    "# print(list4)\n",
    "list4.clear()\n",
    "print(list4)\n"
   ]
  },
  {
   "cell_type": "markdown",
   "id": "f6b7e403",
   "metadata": {},
   "source": [
    "### 🍭 Changing list Items"
   ]
  },
  {
   "cell_type": "code",
   "execution_count": 4,
   "id": "ad3b03a0",
   "metadata": {},
   "outputs": [
    {
     "name": "stdout",
     "output_type": "stream",
     "text": [
      "['newFirst', 'newSecond', 'fourth']\n"
     ]
    }
   ],
   "source": [
    "# We can use index to change the list items\n",
    "list5 = [\"first\",\"second\",\"third\",\"fourth\"]\n",
    "# list5[0] = \"newFirst\"\n",
    "# list5[0:2] = [\"newFirst\",\"newSecond\"]\n",
    "# list5[0:2] = [\"newFirst\",\"newSecond\",\"newThird\"]\n",
    "list5[0:3] = [\"newFirst\",\"newSecond\"]\n",
    "print(list5)"
   ]
  },
  {
   "cell_type": "markdown",
   "id": "3c0528cb",
   "metadata": {},
   "source": [
    "### 🍭 List comprehension"
   ]
  },
  {
   "cell_type": "code",
   "execution_count": 7,
   "id": "95169e6a",
   "metadata": {},
   "outputs": [
    {
     "name": "stdout",
     "output_type": "stream",
     "text": [
      "['SARAH', 'BRUNO', 'ANASTASIA']\n"
     ]
    }
   ],
   "source": [
    "# Creating list from other iterables like tuple, set, string or other list\n",
    "names = [\"Milo\", \"Sarah\", \"Bruno\", \"Anastasia\", \"Rosa\"]\n",
    "new_names_list = [item.upper() for item in names if len(item)>=5]\n",
    "print(new_names_list)\n"
   ]
  },
  {
   "cell_type": "markdown",
   "id": "3bd65dcb",
   "metadata": {},
   "source": [
    "### 🍭 Usefull list methods "
   ]
  },
  {
   "cell_type": "code",
   "execution_count": 12,
   "id": "560e3edf",
   "metadata": {},
   "outputs": [
    {
     "ename": "ValueError",
     "evalue": "300 is not in list",
     "output_type": "error",
     "traceback": [
      "\u001b[1;31m---------------------------------------------------------------------------\u001b[0m",
      "\u001b[1;31mValueError\u001b[0m                                Traceback (most recent call last)",
      "Cell \u001b[1;32mIn[12], line 5\u001b[0m\n\u001b[0;32m      1\u001b[0m list6 \u001b[38;5;241m=\u001b[39m [\u001b[38;5;241m23\u001b[39m,\u001b[38;5;241m10\u001b[39m,\u001b[38;5;241m3\u001b[39m,\u001b[38;5;241m1\u001b[39m,\u001b[38;5;241m44\u001b[39m,\u001b[38;5;241m10\u001b[39m]\n\u001b[0;32m      2\u001b[0m \u001b[38;5;66;03m# list6.sort()\u001b[39;00m\n\u001b[0;32m      3\u001b[0m \u001b[38;5;66;03m# list6.reverse()\u001b[39;00m\n\u001b[0;32m      4\u001b[0m \u001b[38;5;66;03m# print(list6.count(10))\u001b[39;00m\n\u001b[1;32m----> 5\u001b[0m \u001b[38;5;28mprint\u001b[39m(list6\u001b[38;5;241m.\u001b[39mindex(\u001b[38;5;241m300\u001b[39m))\n",
      "\u001b[1;31mValueError\u001b[0m: 300 is not in list"
     ]
    }
   ],
   "source": [
    "list6 = [23,10,3,1,44,10]\n",
    "# list6.sort()\n",
    "# list6.reverse()\n",
    "# print(list6.count(10))\n",
    "# print(list6.index(3))\n",
    "# print(list6)\n",
    "list7 = list6.copy()"
   ]
  },
  {
   "cell_type": "code",
   "execution_count": null,
   "id": "5f1d1e73",
   "metadata": {},
   "outputs": [],
   "source": []
  }
 ],
 "metadata": {
  "kernelspec": {
   "display_name": "Python 3 (ipykernel)",
   "language": "python",
   "name": "python3"
  },
  "language_info": {
   "codemirror_mode": {
    "name": "ipython",
    "version": 3
   },
   "file_extension": ".py",
   "mimetype": "text/x-python",
   "name": "python",
   "nbconvert_exporter": "python",
   "pygments_lexer": "ipython3",
   "version": "3.12.3"
  }
 },
 "nbformat": 4,
 "nbformat_minor": 5
}
