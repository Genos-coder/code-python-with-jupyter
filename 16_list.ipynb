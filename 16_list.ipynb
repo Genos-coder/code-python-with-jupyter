{
 "cells": [
  {
   "cell_type": "markdown",
   "id": "3f9e63d2",
   "metadata": {},
   "source": [
    "# 🎈 Basics of  list"
   ]
  },
  {
   "cell_type": "code",
   "execution_count": null,
   "id": "1eed897e",
   "metadata": {},
   "outputs": [],
   "source": [
    "list1 = [1,2,3,4]\n",
    "#accessing the string using array notation\n",
    "\n",
    "print(list1[0])\n",
    "print(list1[::-1])\n",
    "#same as of string slicing\n",
    "\n",
    "#cheking the item present in list using in operator\n",
    "print(1 in list1)"
   ]
  },
  {
   "cell_type": "markdown",
   "id": "8a373d03",
   "metadata": {},
   "source": [
    "### 🍭 List adding methods"
   ]
  },
  {
   "cell_type": "code",
   "execution_count": null,
   "id": "992e23da",
   "metadata": {},
   "outputs": [],
   "source": [
    "list2 = [\"first\",\"second\", \"third\"]\n",
    "# list2.append(\"fourth\")\n",
    "# list2.append(5)\n",
    "list2.insert(3,100)\n",
    "# arr1.extend([6,7,8,9])\n",
    "print(list2)"
   ]
  },
  {
   "cell_type": "markdown",
   "id": "f80a56fd",
   "metadata": {},
   "source": [
    "### 🍭 List Deleting methods"
   ]
  },
  {
   "cell_type": "code",
   "execution_count": null,
   "id": "12133812",
   "metadata": {},
   "outputs": [],
   "source": [
    "list3 = [1,2,3,4]\n",
    "# print(list3.pop())\n",
    "# print(list3.pop(0))\n",
    "list4 = [\"sugar\",\"milk\",\"berries\",\"donut\"]\n",
    "list4.remove(\"donut\")\n",
    "# print(list4)\n",
    "del list4[0]\n",
    "# print(list4)\n",
    "list4.clear()\n",
    "print(list4)\n"
   ]
  },
  {
   "cell_type": "markdown",
   "id": "f6b7e403",
   "metadata": {},
   "source": [
    "### 🍭 Changing list Items"
   ]
  },
  {
   "cell_type": "code",
   "execution_count": null,
   "id": "ad3b03a0",
   "metadata": {},
   "outputs": [],
   "source": [
    "# We can use index to change the list items\n",
    "list5 = [\"first\",\"second\",\"third\",\"fourth\"]\n",
    "# list5[0] = \"newFirst\"\n",
    "# list5[0:2] = [\"newFirst\",\"newSecond\"]\n",
    "# list5[0:2] = [\"newFirst\",\"newSecond\",\"newThird\"]\n",
    "list5[0:3] = [\"newFirst\",\"newSecond\"]\n",
    "print(list5)"
   ]
  },
  {
   "cell_type": "markdown",
   "id": "3c0528cb",
   "metadata": {},
   "source": [
    "### 🍭 List comprehension"
   ]
  },
  {
   "cell_type": "code",
   "execution_count": null,
   "id": "95169e6a",
   "metadata": {},
   "outputs": [],
   "source": [
    "# Creating list from other iterables like tuple, set, string or other list\n",
    "names = [\"Milo\", \"Sarah\", \"Bruno\", \"Anastasia\", \"Rosa\"]\n",
    "new_names_list = [item for item in names if len(item)>=5]\n",
    "print(new_names_list)"
   ]
  },
  {
   "cell_type": "markdown",
   "id": "3bd65dcb",
   "metadata": {},
   "source": [
    "### 🍭 Usefull list methods "
   ]
  },
  {
   "cell_type": "code",
   "execution_count": null,
   "id": "560e3edf",
   "metadata": {},
   "outputs": [],
   "source": [
    "list6 = [23,10,3,1,44,10]\n",
    "# list6.sort()\n",
    "# list6.reverse()\n",
    "# print(list6.count(10))\n",
    "# print(list6.index(3))\n",
    "# print(list6)\n",
    "list7 = list6.copy()"
   ]
  },
  {
   "cell_type": "code",
   "execution_count": null,
   "id": "5f1d1e73",
   "metadata": {},
   "outputs": [],
   "source": []
  }
 ],
 "metadata": {
  "kernelspec": {
   "display_name": "Python 3 (ipykernel)",
   "language": "python",
   "name": "python3"
  },
  "language_info": {
   "codemirror_mode": {
    "name": "ipython",
    "version": 3
   },
   "file_extension": ".py",
   "mimetype": "text/x-python",
   "name": "python",
   "nbconvert_exporter": "python",
   "pygments_lexer": "ipython3",
   "version": "3.12.3"
  }
 },
 "nbformat": 4,
 "nbformat_minor": 5
}
