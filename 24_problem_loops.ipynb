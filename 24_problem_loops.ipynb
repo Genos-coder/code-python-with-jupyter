{
 "cells": [
  {
   "cell_type": "markdown",
   "id": "844cf62d",
   "metadata": {},
   "source": [
    "# Python Loops - Practice Questions\n",
    "\n",
    "### 1. Write a `for` loop to print numbers from 1 to 10.\n",
    "\n",
    "### 2. Write a `while` loop to print numbers from 10 to 1.\n",
    "\n",
    "### 3. Write a loop to calculate the sum of the first 50 natural numbers.\n",
    "\n",
    "### 4. Write a loop that prints all even numbers between 1 and 50.\n",
    "\n",
    "### 5. Write a loop that prints the multiplication table of a given number `n`.\n",
    "\n",
    "### 6. Write a loop to find the factorial of a given number `n`.\n",
    "\n",
    "### 7. Write a loop to reverse a given string without using slicing.\n",
    "\n",
    "### 8. Write a loop to count the number of digits in a given number.\n",
    "\n",
    "### 9. Write a loop that prints Fibonacci numbers up to `n` terms.\n",
    "\n",
    "### 10. Write a loop to find the sum of all digits in a given number.\n",
    "\n",
    "### 11. Write a nested loop to print the following pattern for `n = 5`:\n",
    "   ```\n",
    "   *\n",
    "   **\n",
    "   ***\n",
    "   ****\n",
    "   *****\n",
    "   ```\n",
    "\n",
    "### 12. Write a loop to find and print all prime numbers between 1 and 100.\n"
   ]
  },
  {
   "cell_type": "code",
   "execution_count": null,
   "id": "950365b7",
   "metadata": {},
   "outputs": [],
   "source": []
  }
 ],
 "metadata": {
  "kernelspec": {
   "display_name": "Python 3 (ipykernel)",
   "language": "python",
   "name": "python3"
  },
  "language_info": {
   "codemirror_mode": {
    "name": "ipython",
    "version": 3
   },
   "file_extension": ".py",
   "mimetype": "text/x-python",
   "name": "python",
   "nbconvert_exporter": "python",
   "pygments_lexer": "ipython3",
   "version": "3.12.3"
  }
 },
 "nbformat": 4,
 "nbformat_minor": 5
}
