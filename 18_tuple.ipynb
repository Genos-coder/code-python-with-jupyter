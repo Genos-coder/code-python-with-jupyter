{
 "cells": [
  {
   "cell_type": "markdown",
   "id": "015af1a3",
   "metadata": {},
   "source": [
    "# 🎈Tuples"
   ]
  },
  {
   "cell_type": "markdown",
   "id": "6f07a5fd",
   "metadata": {},
   "source": [
    "### 🍭basic"
   ]
  },
  {
   "cell_type": "code",
   "execution_count": null,
   "id": "c2ba823b",
   "metadata": {},
   "outputs": [],
   "source": [
    "tup1 = (\"this\", \"is\",\"string\",\"tuple\")\n",
    "\n",
    "#using membership operator to check any element present in tuple or not\n",
    "def check_presence(input_tuple,item):\n",
    "    if item in input_tuple:\n",
    "        print(\"item is present\")\n",
    "    else:\n",
    "        print(\"item is not present\")\n",
    "\n",
    "check_presence(tup1,\"string\")\n",
    "\n",
    "#running loop on tuple\n",
    "for i in range(len(tup1)):\n",
    "    print(tup1[i],\"\",end=\"\")\n",
    "\n",
    "\n"
   ]
  },
  {
   "cell_type": "markdown",
   "id": "845cbd23",
   "metadata": {},
   "source": [
    "### 🍭changing tuple"
   ]
  },
  {
   "cell_type": "code",
   "execution_count": null,
   "id": "b4c91faf",
   "metadata": {},
   "outputs": [],
   "source": [
    "tup2 = (1,2,3,4)\n",
    "tup2 = (1,2,3,4,5,)\n",
    "tup3 = (6,7,8,9,10)\n",
    "\n",
    "# we cannot change the tuple values but we can reassign the new tuple values to variable\n",
    "# we can make tuple into list first then change it and then make tuple of that list\n",
    "\n",
    "tup5 = (\"This\", \"is\", \"testing\" ,\"tuple\")\n",
    "\n",
    "tup_list = list(tup5)\n",
    "tup_list.append(\"do it\")\n",
    "del tup_list[1]\n",
    "tup_list.pop(0)\n",
    "print(tup_list)"
   ]
  },
  {
   "cell_type": "markdown",
   "id": "d98909c3",
   "metadata": {},
   "source": [
    "### 🍭Unpack tuple"
   ]
  },
  {
   "cell_type": "code",
   "execution_count": null,
   "id": "2df87c4d",
   "metadata": {},
   "outputs": [],
   "source": [
    "tup6 = (\"james\",22,\"cook\")\n",
    "(name, age, occupation) = tup6\n",
    "print(name, age, occupation)\n",
    "tup7 = (\"pineapple\",\"apple\",\"jack fruit\",\"grapes\",\"banana\",\"watermelon\",\"mango\")\n",
    "#below * is star operator\n",
    "(fruit1,fruit2,*remaining) = tup7\n",
    "print(remaining)"
   ]
  },
  {
   "cell_type": "code",
   "execution_count": null,
   "id": "c39339df",
   "metadata": {},
   "outputs": [],
   "source": []
  }
 ],
 "metadata": {
  "kernelspec": {
   "display_name": "Python 3 (ipykernel)",
   "language": "python",
   "name": "python3"
  },
  "language_info": {
   "codemirror_mode": {
    "name": "ipython",
    "version": 3
   },
   "file_extension": ".py",
   "mimetype": "text/x-python",
   "name": "python",
   "nbconvert_exporter": "python",
   "pygments_lexer": "ipython3",
   "version": "3.12.3"
  }
 },
 "nbformat": 4,
 "nbformat_minor": 5
}
