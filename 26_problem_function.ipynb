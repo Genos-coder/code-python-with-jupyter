{
 "cells": [
  {
   "cell_type": "markdown",
   "id": "31610b33",
   "metadata": {},
   "source": [
    "# Python Functions - Practice Questions\n",
    "\n",
    "### 1. Write a function `greet(name)` that takes a name as input and prints \"Hello, {name}!\".\n",
    "\n",
    "### 2. Write a function `add(a, b)` that returns the sum of two numbers.\n",
    "\n",
    "### 3. Write a function `is_even(n)` that returns `True` if `n` is even, otherwise `False`.\n",
    "\n",
    "### 4. Write a function `factorial(n)` that returns the factorial of `n`.\n",
    "\n",
    "### 5. Write a function `reverse_string(s)` that returns the reverse of the given string.\n",
    "\n",
    "### 6. Write a function `count_vowels(s)` that counts and returns the number of vowels in a string.\n",
    "\n",
    "### 7. Write a function `find_max(lst)` that returns the maximum element from a list.\n",
    "\n",
    "### 8. Write a function `fibonacci(n)` that returns the first `n` numbers in the Fibonacci sequence as a list.\n",
    "\n",
    "### 9. Write a function `is_palindrome(s)` that checks if a string is a palindrome (reads the same forward and backward).\n",
    "\n",
    "### 10. Write a function `calculate_area(shape, value1, value2=0)` that calculates the area of a shape:\n",
    "   - If `shape` is \"circle\", return `3.14 * value1 * value1`.\n",
    "   - If `shape` is \"rectangle\", return `value1 * value2`.\n",
    "   - If `shape` is \"square\", return `value1 * value1`.\n",
    "\n",
    "### 11. Write a function `word_count(sentence)` that returns a dictionary where keys are words, and values are their frequencies.\n",
    "\n",
    "### 12. Write a function `generate_password(length)` that returns a random password of the given length containing letters, digits, and special characters.\n"
   ]
  },
  {
   "cell_type": "code",
   "execution_count": null,
   "id": "7f860648",
   "metadata": {},
   "outputs": [],
   "source": []
  }
 ],
 "metadata": {
  "kernelspec": {
   "display_name": "Python 3 (ipykernel)",
   "language": "python",
   "name": "python3"
  },
  "language_info": {
   "codemirror_mode": {
    "name": "ipython",
    "version": 3
   },
   "file_extension": ".py",
   "mimetype": "text/x-python",
   "name": "python",
   "nbconvert_exporter": "python",
   "pygments_lexer": "ipython3",
   "version": "3.12.3"
  }
 },
 "nbformat": 4,
 "nbformat_minor": 5
}
