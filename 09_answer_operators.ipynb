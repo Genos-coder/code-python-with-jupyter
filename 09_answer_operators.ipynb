{
 "cells": [
  {
   "cell_type": "markdown",
   "id": "6605bc8e",
   "metadata": {},
   "source": [
    "### Question 1: What will be the output?"
   ]
  },
  {
   "cell_type": "code",
   "execution_count": null,
   "id": "1bea3ce9",
   "metadata": {},
   "outputs": [],
   "source": [
    "a = 15\n",
    "b = 4\n",
    "# print(a // b) # Floor division operator\n",
    "# print(a % b)\n",
    "# print(a ** b) # Exponentiation operator\n"
   ]
  },
  {
   "cell_type": "markdown",
   "id": "e61b6197",
   "metadata": {},
   "source": [
    "### Question 2: Write a program to calculate the area of a circle given its radius. (Use the formula area = π * r²)"
   ]
  },
  {
   "cell_type": "code",
   "execution_count": null,
   "id": "1a9664f8",
   "metadata": {},
   "outputs": [],
   "source": [
    "def find_area_of_circle(radius):\n",
    "    return 3.14 * (radius ** 2)\n",
    "\n",
    "# print(find_area_of_circle(4))\n"
   ]
  },
  {
   "cell_type": "markdown",
   "id": "c0ca6ee1",
   "metadata": {},
   "source": [
    "### Question 3: Predict the output:"
   ]
  },
  {
   "cell_type": "code",
   "execution_count": null,
   "id": "521453c4",
   "metadata": {},
   "outputs": [],
   "source": [
    "x = 10\n",
    "y = 20\n",
    "# print(x > y)\n",
    "# print(x <= y)\n",
    "# print(x == 10)\n"
   ]
  },
  {
   "cell_type": "markdown",
   "id": "5f87e219",
   "metadata": {},
   "source": [
    "### Question 4: What will be the output?"
   ]
  },
  {
   "cell_type": "code",
   "execution_count": null,
   "id": "dc8b866c",
   "metadata": {},
   "outputs": [],
   "source": [
    "a = True\n",
    "b = False\n",
    "# print(a and b)\n",
    "# print(a or b)\n",
    "# print(not a)\n"
   ]
  },
  {
   "cell_type": "markdown",
   "id": "c0625268",
   "metadata": {},
   "source": [
    "### Question 5: Convert 5 and 3 to binary and calculate 5 & 3, 5 | 3, and 5 ^ 3."
   ]
  },
  {
   "cell_type": "code",
   "execution_count": null,
   "id": "86fec72b",
   "metadata": {},
   "outputs": [],
   "source": [
    "binary_5 = bin(5)\n",
    "binary_3 = bin(3)\n",
    "\n",
    "# print(f\"Binary of 5 is {binary_5}\")\n",
    "# print(f\"Binary of 3 is {binary_3}\")\n",
    "\n",
    "r1 = 5 | 3\n",
    "r2 = 5 & 3\n",
    "r3 = 5 ^ 3\n",
    "\n",
    "# print(f\"Bitwise OR between 5, 3 is {r1}\")\n",
    "# print(f\"Bitwise AND between 5, 3 is {r2}\")\n",
    "# print(f\"Bitwise XOR between 5, 3 is {r3}\")\n"
   ]
  },
  {
   "cell_type": "markdown",
   "id": "e77314d2",
   "metadata": {},
   "source": [
    "### Question 6: What does 5 << 2 and 10 >> 1 mean? Calculate their results."
   ]
  },
  {
   "cell_type": "code",
   "execution_count": null,
   "id": "71dd9693",
   "metadata": {},
   "outputs": [],
   "source": [
    "# print(5 << 2)  # Binary representation of 5 is 0101, left shift by 2: 00010100 = 20\n",
    "# print(10 >> 1) # Binary representation of 10 is 1010, right shift by 1: 0101 = 5\n",
    "\n",
    "# Using formula:\n",
    "# digit << n = digit * 2**n\n",
    "# digit >> n = digit / 2**n\n"
   ]
  },
  {
   "cell_type": "markdown",
   "id": "b772b669",
   "metadata": {},
   "source": [
    "### Question 7: Write a program that uses +=, -=, *=, and /= to modify a variable"
   ]
  },
  {
   "cell_type": "code",
   "execution_count": null,
   "id": "0a9c0581",
   "metadata": {},
   "outputs": [],
   "source": [
    "def modify_value(value):\n",
    "    value += value\n",
    "    value /= value\n",
    "    value -= value\n",
    "    value *= value\n",
    "    return value\n",
    "\n",
    "# print(modify_value(20))\n"
   ]
  },
  {
   "cell_type": "markdown",
   "id": "d3dbf47f",
   "metadata": {},
   "source": [
    "### Question 8: What will be the output?"
   ]
  },
  {
   "cell_type": "code",
   "execution_count": null,
   "id": "12908bec",
   "metadata": {},
   "outputs": [],
   "source": [
    "a = [1, 2, 3]\n",
    "b = a\n",
    "c = [1, 2, 3]\n",
    "# print(a is b)\n",
    "# print(a is c)\n",
    "# print(2 in a)\n",
    "# print(4 not in a)\n"
   ]
  },
  {
   "cell_type": "markdown",
   "id": "ee3c8a11",
   "metadata": {},
   "source": [
    "### Question 9: Write a Python program that takes an integer input and:\n",
    "- Checks if it’s even or odd using the modulus operator.\n",
    "- Verifies if the number is between 10 and 50 using logical operators.\n",
    "- Uses a bitwise operator to multiply the number by 4."
   ]
  },
  {
   "cell_type": "code",
   "execution_count": null,
   "id": "58dcfce1",
   "metadata": {},
   "outputs": [],
   "source": [
    "def ops_performer(input):\n",
    "    if input % 2 == 0:\n",
    "        print(\"It is an even number\")\n",
    "    else:\n",
    "        print(\"It is an odd number\")\n",
    "\n",
    "    if 10 < input < 50:\n",
    "        print(\"The number is greater than 10 and less than 50\")\n",
    "\n",
    "    input = input << 2\n",
    "    print(input)\n",
    "\n",
    "ops_performer(12)\n"
   ]
  }
 ],
 "metadata": {},
 "nbformat": 4,
 "nbformat_minor": 5
}
