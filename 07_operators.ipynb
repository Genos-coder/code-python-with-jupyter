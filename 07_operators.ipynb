{
 "cells": [
  {
   "cell_type": "markdown",
   "id": "57d29414",
   "metadata": {},
   "source": [
    "### Arithmetic Operators"
   ]
  },
  {
   "cell_type": "code",
   "execution_count": null,
   "id": "af40054c",
   "metadata": {},
   "outputs": [],
   "source": [
    "# print(12 + 10)\n",
    "# print(12 - 10)\n",
    "# print(12 / 10)\n",
    "# print(12 * 10)\n",
    "# print(2 ** 2)\n",
    "# print(11 % 2)\n",
    "# print(12 // 10) # Divide the number and return floor value\n"
   ]
  },
  {
   "cell_type": "markdown",
   "id": "b72c668a",
   "metadata": {},
   "source": [
    "### Assignment Operators"
   ]
  },
  {
   "cell_type": "code",
   "execution_count": null,
   "id": "85a07875",
   "metadata": {},
   "outputs": [],
   "source": [
    "a = 10\n",
    "a += 10\n",
    "a *= 10\n",
    "a /= 10\n",
    "a -= 10\n",
    "a //= 10\n",
    "a **= 10\n",
    "a %= 10\n"
   ]
  },
  {
   "cell_type": "markdown",
   "id": "7d6d5084",
   "metadata": {},
   "source": [
    "### Bitwise Operators"
   ]
  },
  {
   "cell_type": "code",
   "execution_count": null,
   "id": "61caf7bf",
   "metadata": {},
   "outputs": [],
   "source": [
    "# print(a)\n",
    "\n",
    "b = 10\n",
    "c = 12\n",
    "# print(c & b)\n",
    "# print(True & False)\n",
    "# print(True | False)\n",
    "# print(~True)\n",
    "# print(True ^ False)\n"
   ]
  },
  {
   "cell_type": "markdown",
   "id": "f503c68f",
   "metadata": {},
   "source": [
    "### Comparison Operators"
   ]
  },
  {
   "cell_type": "code",
   "execution_count": null,
   "id": "6f7ac79c",
   "metadata": {},
   "outputs": [],
   "source": [
    "# print(b < c)\n",
    "# print(b > c)\n",
    "# print(b != c)\n",
    "# print(\"1\" == 1)\n",
    "\n",
    "d = 10\n",
    "e = d\n",
    "team1 = {\"one\": \"faiz\", \"two\": \"messi\"}\n",
    "team2 = team1\n",
    "team3 = {\"one\": \"faiz\", \"two\": \"messi\"}\n",
    "\n",
    "print(team2 is team1)\n",
    "print(team3 is team1)\n",
    "print(d is e)\n"
   ]
  },
  {
   "cell_type": "markdown",
   "id": "0f436f7a",
   "metadata": {},
   "source": [
    "### Logical Operators"
   ]
  },
  {
   "cell_type": "code",
   "execution_count": null,
   "id": "4c06fee0",
   "metadata": {},
   "outputs": [],
   "source": [
    "# age = input(\"Enter your age:\")\n",
    "age = 20\n",
    "\n",
    "if age >= 18 and age < 55:\n",
    "    print(\"You are eligible to drive\")\n",
    "elif age < 18 or age > 55:\n",
    "    print(\"You are not eligible to drive\")\n",
    "else:\n",
    "    print(\"The input you have typed is not compatible\")\n"
   ]
  },
  {
   "cell_type": "markdown",
   "id": "19039c46",
   "metadata": {},
   "source": [
    "### Membership Operators"
   ]
  },
  {
   "cell_type": "code",
   "execution_count": null,
   "id": "44818c55",
   "metadata": {},
   "outputs": [],
   "source": [
    "print(\"one\" in team2)\n",
    "print(\"two\" not in team2)\n"
   ]
  }
 ],
 "metadata": {},
 "nbformat": 4,
 "nbformat_minor": 5
}