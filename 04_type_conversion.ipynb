{
 "cells": [
  {
   "cell_type": "code",
   "execution_count": null,
   "id": "613aff49",
   "metadata": {},
   "outputs": [],
   "source": [
    "a = 12\n",
    "b = float(a)\n",
    "# print(type(b))\n",
    "b = int(a)\n",
    "# print(type(b))\n",
    "b = complex(a)\n",
    "# print(type(b), b)\n"
   ]
  }
 ],
 "metadata": {},
 "nbformat": 4,
 "nbformat_minor": 5
}