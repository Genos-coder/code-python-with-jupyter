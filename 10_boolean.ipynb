{
 "cells": [
  {
   "cell_type": "code",
   "execution_count": null,
   "id": "8e46c799",
   "metadata": {},
   "outputs": [],
   "source": [
    "# falsy values\n",
    "\n",
    "print(bool(None))\n",
    "print(bool(\"\"))\n",
    "print(bool(False))\n",
    "print(bool(0))\n",
    "print(bool([]))\n",
    "print(bool({}))\n",
    "print(bool(()))\n"
   ]
  },
  {
   "cell_type": "code",
   "execution_count": null,
   "id": "df12897a",
   "metadata": {},
   "outputs": [],
   "source": []
  }
 ],
 "metadata": {
  "kernelspec": {
   "display_name": "Python 3 (ipykernel)",
   "language": "python",
   "name": "python3"
  },
  "language_info": {
   "codemirror_mode": {
    "name": "ipython",
    "version": 3
   },
   "file_extension": ".py",
   "mimetype": "text/x-python",
   "name": "python",
   "nbconvert_exporter": "python",
   "pygments_lexer": "ipython3",
   "version": "3.12.3"
  }
 },
 "nbformat": 4,
 "nbformat_minor": 5
}
