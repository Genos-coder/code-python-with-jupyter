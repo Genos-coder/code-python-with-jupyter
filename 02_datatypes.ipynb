{
 "cells": [
  {
   "cell_type": "code",
   "execution_count": null,
   "id": "3df7eec1",
   "metadata": {},
   "outputs": [],
   "source": [
    "# Numeric data\n",
    "num1 = 12\n",
    "num2 = 2.33\n",
    "complexNum = 2 + 3j\n",
    "# print(type(complexNum))\n",
    "# print(type(num1))\n",
    "# print(type(num2))\n",
    "\n",
    "# Text data\n",
    "st1 = \"Hello there\"\n",
    "\n",
    "# Boolean\n",
    "isTrue = True\n",
    "isHealthy = False\n",
    "\n",
    "# Sequenced data\n",
    "\n",
    "# 1. List\n",
    "mixList = [1,2,True,[1,2,3],\"hat\"]\n",
    "# print(mixList)\n",
    "\n",
    "# 2. Tuple\n",
    "tuple1 = (1,2,3)\n",
    "# print(tuple1)\n",
    "\n",
    "tuple2  = ((\"ping\",\"100\"),(\"org\",\"ff\"))\n",
    "\n",
    "# 3. Range\n",
    "r1 = range(1,10,2)\n",
    "# print(list(r1))\n",
    "for i in r1:\n",
    "    i\n",
    "\n",
    "# 4. Dictionary\n",
    "dict1 = {\"name\":\"ted\",\"last\":\"talks\"}\n",
    "print(dict1)\n",
    "\n",
    "# 5. Converting string to bytes\n",
    "str1 = \"This is a string\"\n",
    "arr1 = bytes(str1, 'utf-8')\n",
    "# print(arr1)\n",
    "arr2 = bytes(str1, 'utf-16')\n",
    "# print(arr2)\n",
    "\n",
    "# Creating bytes of given size\n",
    "# bytestr = bytes(4)\n",
    "# print(bytestr)\n",
    "\n",
    "# 6. Set\n",
    "numSet = {1,2,33,4,1,1}\n",
    "# print(numSet)\n"
   ]
  },
  {
   "cell_type": "markdown",
   "id": "cf95f7d3",
   "metadata": {},
   "source": [
    "### What are the different data types in Python? Give examples of each"
   ]
  },
  {
   "cell_type": "code",
   "execution_count": null,
   "id": "ac64c8c4",
   "metadata": {},
   "outputs": [],
   "source": [
    "d1 = \"this is string\" # string\n",
    "d2 = 12 # number\n",
    "d3 = None # use as a placeholder \n",
    "d4 = [1,2,3,4] # list\n",
    "d5 = {\"name\":\"vishal\",\"partner\":\"unknown\"} # dictionary\n",
    "d6 = range(1,5,1) # range\n",
    "d7 = {1,2,3,5,2,2,3} # set\n",
    "d8 = True # boolean\n",
    "d9 = (\"stuff\",\"needs\",\"to\",\"get\",\"done\") # tuple"
   ]
  },
  {
   "cell_type": "markdown",
   "id": "176ad348",
   "metadata": {},
   "source": [
    "### Identify the data type of the following:"
   ]
  },
  {
   "cell_type": "code",
   "execution_count": null,
   "id": "e6e16175",
   "metadata": {},
   "outputs": [],
   "source": [
    "print(type(42))  # int\n",
    "print(type(3.14))  # float\n",
    "print(type('Hello, world!'))  # str\n",
    "print(type(True))  # bool\n",
    "print(type([1, 2, 3]))  # list\n",
    "print(type({ \"name\": \"Alice\", \"age\": 25 }))  # dict"
   ]
  },
  {
   "cell_type": "markdown",
   "id": "ca013b8c",
   "metadata": {},
   "source": [
    "### How do you convert a string '123' into an integer?"
   ]
  },
  {
   "cell_type": "code",
   "execution_count": null,
   "id": "f1ac549f",
   "metadata": {},
   "outputs": [],
   "source": [
    "str1 = \"123\"\n",
    "num1 = int(str1)\n",
    "print(num1)\n",
    "num2 = int(input(\"Enter the number\"))"
   ]
  },
  {
   "cell_type": "markdown",
   "id": "696df676",
   "metadata": {},
   "source": [
    "### Write a Python program to check if a given variable is of type float."
   ]
  },
  {
   "cell_type": "code",
   "execution_count": null,
   "id": "cc91c6c6",
   "metadata": {},
   "outputs": [],
   "source": [
    "def checkTypeIsFloat(input):\n",
    "    return type(input) == float\n",
    "\n",
    "result = checkTypeIsFloat(3.4)\n",
    "print(result)"
   ]
  },
  {
   "cell_type": "markdown",
   "id": "201503de",
   "metadata": {},
   "source": [
    "### Convert the list [1, 2, 3, 4] into a tuple and a set."
   ]
  },
  {
   "cell_type": "code",
   "execution_count": null,
   "id": "f6dc8312",
   "metadata": {},
   "outputs": [],
   "source": [
    "l1 = [1, 2, 3, 4]\n",
    "liTup = tuple(l1)\n",
    "liSet = set(l1)\n",
    "\n",
    "print(liTup)\n",
    "print(liSet)"
   ]
  },
  {
   "cell_type": "markdown",
   "id": "8a1571d0",
   "metadata": {},
   "source": [
    "### Write a Python script to calculate the length of a string provided by the user."
   ]
  },
  {
   "cell_type": "code",
   "execution_count": null,
   "id": "b371a50e",
   "metadata": {},
   "outputs": [],
   "source": [
    "def cal_length_of_str(input):\n",
    "    return len(input)\n",
    "\n",
    "print(cal_length_of_str(\"here we go\"))"
   ]
  },
  {
   "cell_type": "markdown",
   "id": "22e7c159",
   "metadata": {},
   "source": [
    "### Create a dictionary to store details of a student (name, age, grade). Retrieve the age from the dictionary."
   ]
  },
  {
   "cell_type": "code",
   "execution_count": null,
   "id": "4cd49295",
   "metadata": {},
   "outputs": [],
   "source": [
    "stud1 = {\n",
    "    \"name\": \"lexy\",\n",
    "    \"age\": 12,\n",
    "    \"grade\": \"A\"\n",
    "}\n",
    "\n",
    "print(stud1[\"age\"])"
   ]
  },
  {
   "cell_type": "markdown",
   "id": "0563edbe",
   "metadata": {},
   "source": [
    "### Write a program to check if a variable is mutable or immutable."
   ]
  },
  {
   "cell_type": "code",
   "execution_count": null,
   "id": "54874c87",
   "metadata": {},
   "outputs": [],
   "source": [
    "def checkMutability(input):\n",
    "    return type(input) == tuple or type(input) == str\n",
    "\n",
    "print(checkMutability((\"hey\", \"there\")))"
   ]
  },
  {
   "cell_type": "markdown",
   "id": "e337050f",
   "metadata": {},
   "source": [
    "### Convert the integer 10 to binary, octal, and hexadecimal formats."
   ]
  },
  {
   "cell_type": "code",
   "execution_count": null,
   "id": "064ce40e",
   "metadata": {},
   "outputs": [],
   "source": [
    "num = 10\n",
    "\n",
    "binary = bin(num)\n",
    "print(f\"Binary format of {num} is {binary}\")\n",
    "\n",
    "octal = oct(num)\n",
    "print(f\"Octal format of {num} is {octal}\")\n",
    "\n",
    "hexadecimal = hex(num)\n",
    "print(f\"Hexadecimal format of {num} is {hexadecimal}\")"
   ]
  },
  {
   "cell_type": "markdown",
   "id": "82701a5f",
   "metadata": {},
   "source": [
    "### Write a Python program to swap two numbers using tuple unpacking."
   ]
  },
  {
   "cell_type": "code",
   "execution_count": null,
   "id": "54e50276",
   "metadata": {},
   "outputs": [],
   "source": [
    "a = 10\n",
    "b = 12\n",
    "a, b = b, a\n",
    "print(a, b)"
   ]
  }
 ],
 "metadata": {
  "kernelspec": {
   "display_name": "Python 3 (ipykernel)",
   "language": "python",
   "name": "python3"
  },
  "language_info": {
   "codemirror_mode": {
    "name": "ipython",
    "version": 3
   },
   "file_extension": ".py",
   "mimetype": "text/x-python",
   "name": "python",
   "nbconvert_exporter": "python",
   "pygments_lexer": "ipython3",
   "version": "3.12.3"
  }
 },
 "nbformat": 4,
 "nbformat_minor": 5
}
