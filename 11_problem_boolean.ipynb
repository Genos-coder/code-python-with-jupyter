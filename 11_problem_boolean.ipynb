{
 "cells": [
  {
   "cell_type": "markdown",
   "id": "3ebc6416",
   "metadata": {},
   "source": [
    "### Question 1: Which of the following values will be evaluated as False by the bool() function?\n",
    "\n",
    "- \"Hello\"\n",
    "- 0\n",
    "- []\n",
    "- -1\n",
    "- {}\n",
    "- None\n",
    "\n",
    "### Question 2: Predict the output:\n",
    "\n",
    "### Question 3: Write a Python program that takes user input and checks if it's a falsy value.\n",
    "\n",
    "### Question 4: Identify the falsy values in this list:\n",
    "\n",
    "### Question 5: Explain why the output of `bool(0.0)` is `False` but `bool(0.00001)` is `True`.\n",
    "\n",
    "### Question 6: Write a function that removes all falsy values from a list.\n",
    "\n",
    "**Input:** `[0, 1, \"\", None, [], \"Python\", False, 10]`  \n",
    "**Output:** `[1, \"Python\", 10]`\n"
   ]
  },
  {
   "cell_type": "code",
   "execution_count": null,
   "id": "d0be59d6",
   "metadata": {},
   "outputs": [],
   "source": []
  }
 ],
 "metadata": {
  "kernelspec": {
   "display_name": "Python 3 (ipykernel)",
   "language": "python",
   "name": "python3"
  },
  "language_info": {
   "codemirror_mode": {
    "name": "ipython",
    "version": 3
   },
   "file_extension": ".py",
   "mimetype": "text/x-python",
   "name": "python",
   "nbconvert_exporter": "python",
   "pygments_lexer": "ipython3",
   "version": "3.12.3"
  }
 },
 "nbformat": 4,
 "nbformat_minor": 5
}
