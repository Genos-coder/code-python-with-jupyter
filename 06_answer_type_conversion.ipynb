{
 "cells": [
  {
   "cell_type": "markdown",
   "id": "ab5d4ab4",
   "metadata": {},
   "source": [
    "### Question 1: What is the difference between implicit and explicit type conversion?"
   ]
  },
  {
   "cell_type": "markdown",
   "id": "314e8d70",
   "metadata": {},
   "source": [
    "**Implicit type conversions**\n",
    "\n",
    "In implicit type conversion, Python converts data from a smaller and less precise type to a larger and more precise type to avoid loss of data."
   ]
  },
  {
   "cell_type": "code",
   "execution_count": null,
   "id": "07c4930b",
   "metadata": {},
   "outputs": [],
   "source": [
    "a = 10\n",
    "b = 4.5\n",
    "c = a + b  # Here, 'a' gets converted into a floating point number\n",
    "# print(c)\n"
   ]
  },
  {
   "cell_type": "markdown",
   "id": "1fcf2e5c",
   "metadata": {},
   "source": [
    "**Explicit type conversions**\n",
    "\n",
    "This is done by the programmer using built-in functions."
   ]
  },
  {
   "cell_type": "code",
   "execution_count": null,
   "id": "b2a991aa",
   "metadata": {},
   "outputs": [],
   "source": [
    "num1 = int(\"101\")\n",
    "num2 = float(10)\n",
    "# print(num1, num2)\n"
   ]
  },
  {
   "cell_type": "markdown",
   "id": "d8a3d635",
   "metadata": {},
   "source": [
    "### Question 2: Which function would you use to convert a string \"123\" to an integer?"
   ]
  },
  {
   "cell_type": "code",
   "execution_count": null,
   "id": "375f45d2",
   "metadata": {},
   "outputs": [],
   "source": [
    "num3 = int(\"123\")\n"
   ]
  },
  {
   "cell_type": "markdown",
   "id": "7eacf007",
   "metadata": {},
   "source": [
    "### Question 3: Explain what happens when you convert a floating-point number to an integer.\n",
    "\n",
    "**Answer:**\n",
    "\n",
    "When you convert a floating-point number to an integer, it loses its decimal part, effectively truncating it."
   ]
  },
  {
   "cell_type": "code",
   "execution_count": null,
   "id": "13feade4",
   "metadata": {},
   "outputs": [],
   "source": [
    "num4 = 10.34\n",
    "num5 = int(num4)\n",
    "# print(num5)\n"
   ]
  },
  {
   "cell_type": "markdown",
   "id": "5b68f36b",
   "metadata": {},
   "source": [
    "### Question 4: Predict the output"
   ]
  },
  {
   "cell_type": "code",
   "execution_count": null,
   "id": "7c67b9f1",
   "metadata": {},
   "outputs": [],
   "source": [
    "x = 5.7\n",
    "y = int(x)\n",
    "# print(y)\n"
   ]
  },
  {
   "cell_type": "markdown",
   "id": "322366ad",
   "metadata": {},
   "source": [
    "### Question 5: What will be the output of the following code?"
   ]
  },
  {
   "cell_type": "code",
   "execution_count": null,
   "id": "86fafc01",
   "metadata": {},
   "outputs": [],
   "source": [
    "num_str = \"25\"\n",
    "num = int(num_str)\n",
    "# print(num + 10)\n"
   ]
  },
  {
   "cell_type": "markdown",
   "id": "a80b74c1",
   "metadata": {},
   "source": [
    "### Question 6: Identify the error in this code and fix it"
   ]
  },
  {
   "cell_type": "code",
   "execution_count": null,
   "id": "b1cfd6a9",
   "metadata": {},
   "outputs": [],
   "source": [
    "price = \"30.5\"\n",
    "# total = price + 20  # Error: Cannot add string and integer\n",
    "total = int(float(price)) + 20  # <-- Fixed\n",
    "# print(total)\n"
   ]
  },
  {
   "cell_type": "markdown",
   "id": "e3a96e74",
   "metadata": {},
   "source": [
    "### Question 7: Convert a list of strings to a list of integers"
   ]
  },
  {
   "cell_type": "code",
   "execution_count": null,
   "id": "39a66c41",
   "metadata": {},
   "outputs": [],
   "source": [
    "str_list = [\"1\", \"2\", \"3\", \"4\"]\n",
    "int_List = []\n",
    "\n",
    "for i in range(len(str_list)):\n",
    "    int_List.append(int(str_list[i]))\n",
    "\n",
    "print(int_List)\n"
   ]
  }
 ],
 "metadata": {},
 "nbformat": 4,
 "nbformat_minor": 5
}