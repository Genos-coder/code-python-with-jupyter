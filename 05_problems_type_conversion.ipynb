{
 "cells": [
  {
   "cell_type": "markdown",
   "id": "4e268a18",
   "metadata": {},
   "source": [
    "### Question 1: What is the difference between implicit and explicit type conversion?\n",
    "\n",
    "### Question 2: Which function would you use to convert a string \"123\" to an integer?\n",
    "\n",
    "### Question 3: Explain what happens when you convert a floating-point number to an integer.\n",
    "\n",
    "### Question 4: Predict the output.\n",
    "\n",
    "### Question 5: What will be the output of the following code?\n",
    "\n",
    "### Question 6: Identify the error in this code and fix it.\n",
    "\n",
    "### Question 7: Convert a list of strings to a list of integers."
   ]
  },
  {
   "cell_type": "code",
   "execution_count": null,
   "id": "eab920c9",
   "metadata": {},
   "outputs": [],
   "source": []
  }
 ],
 "metadata": {
  "kernelspec": {
   "display_name": "Python 3 (ipykernel)",
   "language": "python",
   "name": "python3"
  },
  "language_info": {
   "codemirror_mode": {
    "name": "ipython",
    "version": 3
   },
   "file_extension": ".py",
   "mimetype": "text/x-python",
   "name": "python",
   "nbconvert_exporter": "python",
   "pygments_lexer": "ipython3",
   "version": "3.12.3"
  }
 },
 "nbformat": 4,
 "nbformat_minor": 5
}
