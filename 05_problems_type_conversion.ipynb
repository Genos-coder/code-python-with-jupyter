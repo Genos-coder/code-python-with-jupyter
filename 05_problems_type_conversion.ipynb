{
 "cells": [
  {
   "cell_type": "markdown",
   "id": "4e268a18",
   "metadata": {},
   "source": [
    "### Question 1: What is the difference between implicit and explicit type conversion?\n",
    "\n",
    "### Question 2: Which function would you use to convert a string \"123\" to an integer?\n",
    "\n",
    "### Question 3: Explain what happens when you convert a floating-point number to an integer.\n",
    "\n",
    "### Question 4: Predict the output.\n",
    "\n",
    "### Question 5: What will be the output of the following code?\n",
    "\n",
    "### Question 6: Identify the error in this code and fix it.\n",
    "\n",
    "### Question 7: Convert a list of strings to a list of integers."
   ]
  },
  {
   "cell_type": "code",
   "execution_count": 13,
   "id": "3afc8077",
   "metadata": {},
   "outputs": [
    {
     "name": "stdout",
     "output_type": "stream",
     "text": [
      "50\n",
      "[1, 2, 3, 4]\n"
     ]
    }
   ],
   "source": [
    "#Question1\n",
    "\n",
    "\"\"\"\n",
    "Explicit type conversion is done by programmer using built in method like int, float, complex, implicit type conversion is done by python during execution of program\n",
    "\"\"\"\n",
    "#Question2\n",
    "a = \"123\"\n",
    "b = int(a)\n",
    "\n",
    "#Question3\n",
    "num1 = 1.2\n",
    "# print(int(num1))\n",
    "#Question4\n",
    "x = 5.7\n",
    "y = int(x)\n",
    "# print(y)\n",
    "#Question6\n",
    "price = \"30.5\"\n",
    "total = int(float(price)) + 20\n",
    "print(total)\n",
    "\n",
    "#Question7\n",
    "list1 = [\"1\",\"2\",\"3\",\"4\"]\n",
    "int_list1 =[]\n",
    "for i in range(len(list1)):\n",
    "    int_list1.append(int(list1[i]))\n",
    "    \n",
    "print(int_list1)"
   ]
  },
  {
   "cell_type": "code",
   "execution_count": null,
   "id": "e44d5081",
   "metadata": {},
   "outputs": [],
   "source": []
  }
 ],
 "metadata": {
  "kernelspec": {
   "display_name": "Python 3 (ipykernel)",
   "language": "python",
   "name": "python3"
  },
  "language_info": {
   "codemirror_mode": {
    "name": "ipython",
    "version": 3
   },
   "file_extension": ".py",
   "mimetype": "text/x-python",
   "name": "python",
   "nbconvert_exporter": "python",
   "pygments_lexer": "ipython3",
   "version": "3.12.3"
  }
 },
 "nbformat": 4,
 "nbformat_minor": 5
}
