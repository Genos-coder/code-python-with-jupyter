{
 "cells": [
  {
   "cell_type": "markdown",
   "id": "ae8df169",
   "metadata": {},
   "source": [
    "# Python Dictionaries - Practice Questions\n",
    "\n",
    "### 1. Create a dictionary named `student` with keys: \"name\", \"age\", and \"grade\" having values \"Alice\", 20, and \"A\" respectively.\n",
    "\n",
    "### 2. Add a new key \"subject\" with the value \"Math\" to the `student` dictionary.\n",
    "\n",
    "### 3. Update the \"grade\" key in the `student` dictionary to \"A+\".\n",
    "\n",
    "### 4. Remove the key \"age\" from the `student` dictionary.\n",
    "\n",
    "### 5. Create two dictionaries:\n",
    "   ```python\n",
    "   dict1 = {\"a\": 1, \"b\": 2, \"c\": 3}\n",
    "   dict2 = {\"c\": 4, \"d\": 5, \"e\": 6}\n",
    "   ```\n",
    "   Merge `dict2` into `dict1`.\n",
    "\n",
    "### 6. Check if the key \"name\" exists in the `student` dictionary.\n",
    "\n",
    "### 7. Iterate over the `student` dictionary and print both keys and values.\n",
    "\n",
    "### 8. Get the value of the key \"grade\" from `student` using the `get()` method.\n",
    "\n",
    "### 9. Create a dictionary with nested dictionaries representing a library with books and their authors.\n",
    "\n",
    "### 10. Convert the keys of `student` dictionary into a list and print it.\n",
    "\n",
    "### 11. Convert the values of `student` dictionary into a list and print it.\n",
    "\n",
    "### 12. Create a dictionary from two lists:\n",
    "   ```python\n",
    "   keys = [\"name\", \"age\", \"city\"]\n",
    "   values = [\"Bob\", 25, \"New York\"]\n",
    "   ```\n",
    "   Convert them into a dictionary and print the result.\n"
   ]
  },
  {
   "cell_type": "code",
   "execution_count": null,
   "id": "616e37cf",
   "metadata": {},
   "outputs": [],
   "source": []
  }
 ],
 "metadata": {
  "kernelspec": {
   "display_name": "Python 3 (ipykernel)",
   "language": "python",
   "name": "python3"
  },
  "language_info": {
   "codemirror_mode": {
    "name": "ipython",
    "version": 3
   },
   "file_extension": ".py",
   "mimetype": "text/x-python",
   "name": "python",
   "nbconvert_exporter": "python",
   "pygments_lexer": "ipython3",
   "version": "3.12.3"
  }
 },
 "nbformat": 4,
 "nbformat_minor": 5
}
